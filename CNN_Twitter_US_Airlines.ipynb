{
  "nbformat": 4,
  "nbformat_minor": 0,
  "metadata": {
    "colab": {
      "provenance": []
    },
    "kernelspec": {
      "name": "python3",
      "display_name": "Python 3"
    },
    "language_info": {
      "name": "python"
    }
  },
  "cells": [
    {
      "cell_type": "code",
      "execution_count": null,
      "metadata": {
        "colab": {
          "base_uri": "https://localhost:8080/"
        },
        "id": "f1nab7TQpYGX",
        "outputId": "2ae20520-f9b7-4a1b-d055-2079ba632f45"
      },
      "outputs": [
        {
          "output_type": "stream",
          "name": "stdout",
          "text": [
            "Mounted at /content/drive\n"
          ]
        }
      ],
      "source": [
        "from google.colab import drive\n",
        "drive.mount('/content/drive')\n",
        "filename = '/content/drive/MyDrive/Tugas NLP/Language Modeling/rhyme.txt'"
      ]
    },
    {
      "cell_type": "code",
      "source": [
        "import string\n",
        "import re\n",
        "from os import listdir\n",
        "import numpy as np\n",
        "from numpy import array\n",
        "from os import listdir\n",
        "from collections import Counter\n",
        "from nltk.corpus import stopwords\n",
        "from keras.preprocessing.text import Tokenizer\n",
        "from keras.utils import pad_sequences\n",
        "from keras.utils import to_categorical\n",
        "from keras.utils.vis_utils import plot_model\n",
        "from keras.models import Sequential\n",
        "from keras.layers import Dense\n",
        "from keras.layers import Flatten\n",
        "from keras.layers import Embedding\n",
        "from keras.layers.convolutional import Conv1D\n",
        "from keras.layers.convolutional import MaxPooling1D"
      ],
      "metadata": {
        "id": "LB-y8f6jrDBZ"
      },
      "execution_count": null,
      "outputs": []
    },
    {
      "cell_type": "code",
      "source": [
        "import pandas as pd\n",
        "df = pd.read_csv(filename)\n",
        "df.head()"
      ],
      "metadata": {
        "colab": {
          "base_uri": "https://localhost:8080/",
          "height": 495
        },
        "id": "Qh5Ua8AvrzuS",
        "outputId": "7f5bb86c-669b-48ac-c11e-a27649f81a6f"
      },
      "execution_count": null,
      "outputs": [
        {
          "output_type": "execute_result",
          "data": {
            "text/plain": [
              "             tweet_id airline_sentiment  airline_sentiment_confidence  \\\n",
              "0  570306133677760513           neutral                        1.0000   \n",
              "1  570301130888122368          positive                        0.3486   \n",
              "2  570301083672813571           neutral                        0.6837   \n",
              "3  570301031407624196          negative                        1.0000   \n",
              "4  570300817074462722          negative                        1.0000   \n",
              "\n",
              "  negativereason  negativereason_confidence         airline  \\\n",
              "0            NaN                        NaN  Virgin America   \n",
              "1            NaN                     0.0000  Virgin America   \n",
              "2            NaN                        NaN  Virgin America   \n",
              "3     Bad Flight                     0.7033  Virgin America   \n",
              "4     Can't Tell                     1.0000  Virgin America   \n",
              "\n",
              "  airline_sentiment_gold        name negativereason_gold  retweet_count  \\\n",
              "0                    NaN     cairdin                 NaN              0   \n",
              "1                    NaN    jnardino                 NaN              0   \n",
              "2                    NaN  yvonnalynn                 NaN              0   \n",
              "3                    NaN    jnardino                 NaN              0   \n",
              "4                    NaN    jnardino                 NaN              0   \n",
              "\n",
              "                                                text tweet_coord  \\\n",
              "0                @VirginAmerica What @dhepburn said.         NaN   \n",
              "1  @VirginAmerica plus you've added commercials t...         NaN   \n",
              "2  @VirginAmerica I didn't today... Must mean I n...         NaN   \n",
              "3  @VirginAmerica it's really aggressive to blast...         NaN   \n",
              "4  @VirginAmerica and it's a really big bad thing...         NaN   \n",
              "\n",
              "               tweet_created tweet_location               user_timezone  \n",
              "0  2015-02-24 11:35:52 -0800            NaN  Eastern Time (US & Canada)  \n",
              "1  2015-02-24 11:15:59 -0800            NaN  Pacific Time (US & Canada)  \n",
              "2  2015-02-24 11:15:48 -0800      Lets Play  Central Time (US & Canada)  \n",
              "3  2015-02-24 11:15:36 -0800            NaN  Pacific Time (US & Canada)  \n",
              "4  2015-02-24 11:14:45 -0800            NaN  Pacific Time (US & Canada)  "
            ],
            "text/html": [
              "\n",
              "  <div id=\"df-84b33244-1b04-4191-8646-d7634773cca7\">\n",
              "    <div class=\"colab-df-container\">\n",
              "      <div>\n",
              "<style scoped>\n",
              "    .dataframe tbody tr th:only-of-type {\n",
              "        vertical-align: middle;\n",
              "    }\n",
              "\n",
              "    .dataframe tbody tr th {\n",
              "        vertical-align: top;\n",
              "    }\n",
              "\n",
              "    .dataframe thead th {\n",
              "        text-align: right;\n",
              "    }\n",
              "</style>\n",
              "<table border=\"1\" class=\"dataframe\">\n",
              "  <thead>\n",
              "    <tr style=\"text-align: right;\">\n",
              "      <th></th>\n",
              "      <th>tweet_id</th>\n",
              "      <th>airline_sentiment</th>\n",
              "      <th>airline_sentiment_confidence</th>\n",
              "      <th>negativereason</th>\n",
              "      <th>negativereason_confidence</th>\n",
              "      <th>airline</th>\n",
              "      <th>airline_sentiment_gold</th>\n",
              "      <th>name</th>\n",
              "      <th>negativereason_gold</th>\n",
              "      <th>retweet_count</th>\n",
              "      <th>text</th>\n",
              "      <th>tweet_coord</th>\n",
              "      <th>tweet_created</th>\n",
              "      <th>tweet_location</th>\n",
              "      <th>user_timezone</th>\n",
              "    </tr>\n",
              "  </thead>\n",
              "  <tbody>\n",
              "    <tr>\n",
              "      <th>0</th>\n",
              "      <td>570306133677760513</td>\n",
              "      <td>neutral</td>\n",
              "      <td>1.0000</td>\n",
              "      <td>NaN</td>\n",
              "      <td>NaN</td>\n",
              "      <td>Virgin America</td>\n",
              "      <td>NaN</td>\n",
              "      <td>cairdin</td>\n",
              "      <td>NaN</td>\n",
              "      <td>0</td>\n",
              "      <td>@VirginAmerica What @dhepburn said.</td>\n",
              "      <td>NaN</td>\n",
              "      <td>2015-02-24 11:35:52 -0800</td>\n",
              "      <td>NaN</td>\n",
              "      <td>Eastern Time (US &amp; Canada)</td>\n",
              "    </tr>\n",
              "    <tr>\n",
              "      <th>1</th>\n",
              "      <td>570301130888122368</td>\n",
              "      <td>positive</td>\n",
              "      <td>0.3486</td>\n",
              "      <td>NaN</td>\n",
              "      <td>0.0000</td>\n",
              "      <td>Virgin America</td>\n",
              "      <td>NaN</td>\n",
              "      <td>jnardino</td>\n",
              "      <td>NaN</td>\n",
              "      <td>0</td>\n",
              "      <td>@VirginAmerica plus you've added commercials t...</td>\n",
              "      <td>NaN</td>\n",
              "      <td>2015-02-24 11:15:59 -0800</td>\n",
              "      <td>NaN</td>\n",
              "      <td>Pacific Time (US &amp; Canada)</td>\n",
              "    </tr>\n",
              "    <tr>\n",
              "      <th>2</th>\n",
              "      <td>570301083672813571</td>\n",
              "      <td>neutral</td>\n",
              "      <td>0.6837</td>\n",
              "      <td>NaN</td>\n",
              "      <td>NaN</td>\n",
              "      <td>Virgin America</td>\n",
              "      <td>NaN</td>\n",
              "      <td>yvonnalynn</td>\n",
              "      <td>NaN</td>\n",
              "      <td>0</td>\n",
              "      <td>@VirginAmerica I didn't today... Must mean I n...</td>\n",
              "      <td>NaN</td>\n",
              "      <td>2015-02-24 11:15:48 -0800</td>\n",
              "      <td>Lets Play</td>\n",
              "      <td>Central Time (US &amp; Canada)</td>\n",
              "    </tr>\n",
              "    <tr>\n",
              "      <th>3</th>\n",
              "      <td>570301031407624196</td>\n",
              "      <td>negative</td>\n",
              "      <td>1.0000</td>\n",
              "      <td>Bad Flight</td>\n",
              "      <td>0.7033</td>\n",
              "      <td>Virgin America</td>\n",
              "      <td>NaN</td>\n",
              "      <td>jnardino</td>\n",
              "      <td>NaN</td>\n",
              "      <td>0</td>\n",
              "      <td>@VirginAmerica it's really aggressive to blast...</td>\n",
              "      <td>NaN</td>\n",
              "      <td>2015-02-24 11:15:36 -0800</td>\n",
              "      <td>NaN</td>\n",
              "      <td>Pacific Time (US &amp; Canada)</td>\n",
              "    </tr>\n",
              "    <tr>\n",
              "      <th>4</th>\n",
              "      <td>570300817074462722</td>\n",
              "      <td>negative</td>\n",
              "      <td>1.0000</td>\n",
              "      <td>Can't Tell</td>\n",
              "      <td>1.0000</td>\n",
              "      <td>Virgin America</td>\n",
              "      <td>NaN</td>\n",
              "      <td>jnardino</td>\n",
              "      <td>NaN</td>\n",
              "      <td>0</td>\n",
              "      <td>@VirginAmerica and it's a really big bad thing...</td>\n",
              "      <td>NaN</td>\n",
              "      <td>2015-02-24 11:14:45 -0800</td>\n",
              "      <td>NaN</td>\n",
              "      <td>Pacific Time (US &amp; Canada)</td>\n",
              "    </tr>\n",
              "  </tbody>\n",
              "</table>\n",
              "</div>\n",
              "      <button class=\"colab-df-convert\" onclick=\"convertToInteractive('df-84b33244-1b04-4191-8646-d7634773cca7')\"\n",
              "              title=\"Convert this dataframe to an interactive table.\"\n",
              "              style=\"display:none;\">\n",
              "        \n",
              "  <svg xmlns=\"http://www.w3.org/2000/svg\" height=\"24px\"viewBox=\"0 0 24 24\"\n",
              "       width=\"24px\">\n",
              "    <path d=\"M0 0h24v24H0V0z\" fill=\"none\"/>\n",
              "    <path d=\"M18.56 5.44l.94 2.06.94-2.06 2.06-.94-2.06-.94-.94-2.06-.94 2.06-2.06.94zm-11 1L8.5 8.5l.94-2.06 2.06-.94-2.06-.94L8.5 2.5l-.94 2.06-2.06.94zm10 10l.94 2.06.94-2.06 2.06-.94-2.06-.94-.94-2.06-.94 2.06-2.06.94z\"/><path d=\"M17.41 7.96l-1.37-1.37c-.4-.4-.92-.59-1.43-.59-.52 0-1.04.2-1.43.59L10.3 9.45l-7.72 7.72c-.78.78-.78 2.05 0 2.83L4 21.41c.39.39.9.59 1.41.59.51 0 1.02-.2 1.41-.59l7.78-7.78 2.81-2.81c.8-.78.8-2.07 0-2.86zM5.41 20L4 18.59l7.72-7.72 1.47 1.35L5.41 20z\"/>\n",
              "  </svg>\n",
              "      </button>\n",
              "      \n",
              "  <style>\n",
              "    .colab-df-container {\n",
              "      display:flex;\n",
              "      flex-wrap:wrap;\n",
              "      gap: 12px;\n",
              "    }\n",
              "\n",
              "    .colab-df-convert {\n",
              "      background-color: #E8F0FE;\n",
              "      border: none;\n",
              "      border-radius: 50%;\n",
              "      cursor: pointer;\n",
              "      display: none;\n",
              "      fill: #1967D2;\n",
              "      height: 32px;\n",
              "      padding: 0 0 0 0;\n",
              "      width: 32px;\n",
              "    }\n",
              "\n",
              "    .colab-df-convert:hover {\n",
              "      background-color: #E2EBFA;\n",
              "      box-shadow: 0px 1px 2px rgba(60, 64, 67, 0.3), 0px 1px 3px 1px rgba(60, 64, 67, 0.15);\n",
              "      fill: #174EA6;\n",
              "    }\n",
              "\n",
              "    [theme=dark] .colab-df-convert {\n",
              "      background-color: #3B4455;\n",
              "      fill: #D2E3FC;\n",
              "    }\n",
              "\n",
              "    [theme=dark] .colab-df-convert:hover {\n",
              "      background-color: #434B5C;\n",
              "      box-shadow: 0px 1px 3px 1px rgba(0, 0, 0, 0.15);\n",
              "      filter: drop-shadow(0px 1px 2px rgba(0, 0, 0, 0.3));\n",
              "      fill: #FFFFFF;\n",
              "    }\n",
              "  </style>\n",
              "\n",
              "      <script>\n",
              "        const buttonEl =\n",
              "          document.querySelector('#df-84b33244-1b04-4191-8646-d7634773cca7 button.colab-df-convert');\n",
              "        buttonEl.style.display =\n",
              "          google.colab.kernel.accessAllowed ? 'block' : 'none';\n",
              "\n",
              "        async function convertToInteractive(key) {\n",
              "          const element = document.querySelector('#df-84b33244-1b04-4191-8646-d7634773cca7');\n",
              "          const dataTable =\n",
              "            await google.colab.kernel.invokeFunction('convertToInteractive',\n",
              "                                                     [key], {});\n",
              "          if (!dataTable) return;\n",
              "\n",
              "          const docLinkHtml = 'Like what you see? Visit the ' +\n",
              "            '<a target=\"_blank\" href=https://colab.research.google.com/notebooks/data_table.ipynb>data table notebook</a>'\n",
              "            + ' to learn more about interactive tables.';\n",
              "          element.innerHTML = '';\n",
              "          dataTable['output_type'] = 'display_data';\n",
              "          await google.colab.output.renderOutput(dataTable, element);\n",
              "          const docLink = document.createElement('div');\n",
              "          docLink.innerHTML = docLinkHtml;\n",
              "          element.appendChild(docLink);\n",
              "        }\n",
              "      </script>\n",
              "    </div>\n",
              "  </div>\n",
              "  "
            ]
          },
          "metadata": {},
          "execution_count": 4
        }
      ]
    },
    {
      "cell_type": "code",
      "source": [
        "data = df.to_dict(orient='records')\n",
        "values = [value['text'] for value in data if value['airline_sentiment_confidence'] >= 0.5]\n",
        "values[:10]"
      ],
      "metadata": {
        "colab": {
          "base_uri": "https://localhost:8080/"
        },
        "id": "CWedGYOUrzw-",
        "outputId": "bea56c0d-c55b-4a67-e86d-7369375a44f6"
      },
      "execution_count": null,
      "outputs": [
        {
          "output_type": "execute_result",
          "data": {
            "text/plain": [
              "['@VirginAmerica What @dhepburn said.',\n",
              " \"@VirginAmerica I didn't today... Must mean I need to take another trip!\",\n",
              " '@VirginAmerica it\\'s really aggressive to blast obnoxious \"entertainment\" in your guests\\' faces &amp; they have little recourse',\n",
              " \"@VirginAmerica and it's a really big bad thing about it\",\n",
              " \"@VirginAmerica seriously would pay $30 a flight for seats that didn't have this playing.\\nit's really the only bad thing about flying VA\",\n",
              " '@VirginAmerica yes, nearly every time I fly VX this “ear worm” won’t go away :)',\n",
              " '@VirginAmerica Really missed a prime opportunity for Men Without Hats parody, there. https://t.co/mWpG7grEZP',\n",
              " \"@virginamerica Well, I didn't…but NOW I DO! :-D\",\n",
              " \"@VirginAmerica it was amazing, and arrived an hour early. You're too good to me.\",\n",
              " '@VirginAmerica did you know that suicide is the second leading cause of death among teens 10-24']"
            ]
          },
          "metadata": {},
          "execution_count": 5
        }
      ]
    },
    {
      "cell_type": "code",
      "source": [
        "def clean_text(text):\n",
        "  tokens = text.split()\n",
        "  # regular expression to match any punctuation character (excluding apostrophes)\n",
        "  re_punc = re.compile('[%s]' % re.escape(string.punctuation.replace(\"'\", \"\")))\n",
        "  # regular expression to match camel case words\n",
        "  camel_case_regex = re.compile(r'([a-z])([A-Z])')\n",
        "\n",
        "  # remove string that contains @ from each word\n",
        "  tokens = [w for w in tokens if \"@\" not in w]\n",
        "  # remove punctuation from each word\n",
        "  tokens = [re_punc.sub('', w) for w in tokens]\n",
        "  tokens = [camel_case_regex.sub('', w) for w in tokens]\n",
        "  # remove remaining tokens that are not alphabetic\n",
        "  tokens = [word for word in tokens if word.isalpha()]\n",
        "  # filter out stop words\n",
        "  stop_words = set(stopwords.words('english'))\n",
        "  tokens = [w for w in tokens if not w in stop_words]\n",
        "  # filter out short tokens\n",
        "  tokens = [word for word in tokens if len(word) > 1]\n",
        "  return tokens\n",
        "\n",
        "\n",
        "def add_text_to_vocab(text, vocab):\n",
        "  tokens = clean_text(text)\n",
        "  vocab.update(tokens)\n",
        "\n",
        "def load_text(values, vocab):\n",
        "  for text in values:\n",
        "    add_text_to_vocab(text, vocab)"
      ],
      "metadata": {
        "id": "qrHjYz01rzz7"
      },
      "execution_count": null,
      "outputs": []
    },
    {
      "cell_type": "code",
      "source": [
        "vocab = Counter()\n",
        "load_text(values, vocab)"
      ],
      "metadata": {
        "id": "LNaXek0rrz21"
      },
      "execution_count": null,
      "outputs": []
    },
    {
      "cell_type": "code",
      "source": [
        "vocab.most_common(50)"
      ],
      "metadata": {
        "colab": {
          "base_uri": "https://localhost:8080/"
        },
        "id": "wVIBqD49rz8f",
        "outputId": "62376c01-f7e2-4a20-b47b-80462194d8e7"
      },
      "execution_count": null,
      "outputs": [
        {
          "output_type": "execute_result",
          "data": {
            "text/plain": [
              "[('flight', 3111),\n",
              " ('get', 1277),\n",
              " ('Cancelled', 1054),\n",
              " ('service', 908),\n",
              " ('time', 737),\n",
              " ('Flight', 722),\n",
              " ('help', 709),\n",
              " ('customer', 685),\n",
              " ('hours', 646),\n",
              " ('amp', 630),\n",
              " ('hold', 628),\n",
              " ('flights', 601),\n",
              " ('plane', 587),\n",
              " ('thanks', 521),\n",
              " ('one', 507),\n",
              " ('us', 507),\n",
              " ('Thanks', 503),\n",
              " ('Flightled', 500),\n",
              " ('back', 499),\n",
              " ('would', 492),\n",
              " ('delayed', 486),\n",
              " ('call', 480),\n",
              " ('still', 473),\n",
              " ('gate', 464),\n",
              " ('need', 462),\n",
              " ('bag', 460),\n",
              " ('hour', 450),\n",
              " ('Late', 425),\n",
              " ('got', 413),\n",
              " ('like', 406),\n",
              " ('phone', 403),\n",
              " ('today', 380),\n",
              " ('airline', 377),\n",
              " ('guys', 357),\n",
              " ('fly', 356),\n",
              " ('please', 346),\n",
              " ('know', 343),\n",
              " ('You', 343),\n",
              " ('waiting', 339),\n",
              " ('No', 319),\n",
              " ('way', 319),\n",
              " ('day', 308),\n",
              " ('wait', 306),\n",
              " ('change', 303),\n",
              " ('Thank', 302),\n",
              " ('trying', 300),\n",
              " ('airport', 297),\n",
              " ('going', 296),\n",
              " ('make', 290),\n",
              " ('minutes', 288)]"
            ]
          },
          "metadata": {},
          "execution_count": 11
        }
      ]
    },
    {
      "cell_type": "code",
      "source": [
        "min_occurane = 2\n",
        "tokens = [k for k,c in vocab.items() if c >= min_occurane]\n",
        "print(tokens)"
      ],
      "metadata": {
        "colab": {
          "base_uri": "https://localhost:8080/"
        },
        "id": "gzUa_bporz_T",
        "outputId": "de396dc1-595e-4404-90ce-1b03dc58bbd8"
      },
      "execution_count": null,
      "outputs": [
        {
          "output_type": "stream",
          "name": "stdout",
          "text": [
            "['What', 'said', 'today', 'Must', 'mean', 'need', 'take', 'another', 'trip', 'really', 'aggressive', 'blast', 'obnoxious', 'entertainment', 'faces', 'amp', 'little', 'recourse', 'big', 'bad', 'thing', 'seriously', 'would', 'pay', 'flight', 'seats', 'playing', 'flying', 'VA', 'yes', 'nearly', 'every', 'time', 'fly', 'VX', 'go', 'away', 'Really', 'missed', 'prime', 'opportunity', 'Men', 'Without', 'Hats', 'Well', 'NOW', 'DO', 'amazing', 'arrived', 'hour', 'early', 'good', 'know', 'suicide', 'second', 'leading', 'cause', 'death', 'among', 'teens', 'pretty', 'much', 'better', 'This', 'great', 'deal', 'Already', 'thinking', 'even', 'gone', 'yet', 'fabulous', 'skies', 'stress', 'travel', 'Thanks', 'schedule', 'still', 'MIA', 'So', 'excited', 'first', 'cross', 'country', 'LAX', 'MCO', 'heard', 'nothing', 'things', 'Virgin', 'America', 'flew', 'NYC', 'SFO', 'last', 'week', 'fully', 'sit', 'seat', 'due', 'two', 'large', 'gentleman', 'either', 'side', 'HELP', 'awesome', 'PLEASE', 'want', 'fares', 'May', 'three', 'times', 'carriers', 'available', 'select', 'love', 'innovation', 'You', 'feel', 'brand', 'making', 'non', 'stop', 'permanently', 'anytime', 'soon', 'guys', 'messed', 'seating', 'reserved', 'friends', 'gave', 'free', 'internet', 'status', 'match', 'program', 'applied', 'weeks', 'Called', 'emailed', 'response', 'happened', 'ur', 'vegan', 'food', 'options', 'At', 'least', 'say', 'site', 'able', 'eat', 'anything', 'next', 'hrs', 'fail', 'miss', 'worry', 'together', 'get', 'cold', 'air', 'worstflightever', 'roasted', 'EWR', 'Middle', 'red', 'eye', 'Such', 'maneuver', 'hi', 'cool', 'birthday', 'add', 'elevate', 'entered', 'middle', 'name', 'Flight', 'Booking', 'Problems', 'Are', 'hours', 'operation', 'Club', 'posted', 'online', 'current', 'help', 'left', 'expensive', 'headphones', 'IAD', 'Seat', 'No', 'one', 'answering', 'Lam', 'number', 'awaiting', 'return', 'phone', 'call', 'prefer', 'use', 'selfservice', 'option', 'news', 'could', 'start', 'flights', 'Hawaii', 'end', 'year', 'via', 'Nice', 'RT', 'takeoff', 'touchdown', 'Moodlionday', 'Sciencehinhxperience', 'way', 'Best', 'experience', 'EVER', 'Cool', 'Done', 'done', 'airline', 'around', 'hands', 'book', 'Your', 'chat', 'support', 'working', 'View', 'downtown', 'Los', 'Angeles', 'Sign', 'beyond', 'rain', 'mountains', 'Hey', 'flyer', 'But', 'hard', 'getting', 'added', 'Elevate', 'account', 'Help', 'plz', 'win', 'upgrade', 'unused', 'ticket', 'moved', 'new', 'city', 'How', 'expires', 'leaving', 'Dallas', 'Seattle', 'Feb', 'reason', 'rock', 'wow', 'blew', 'mind', 'After', 'night', 'think', 'agree', 'All', 'entertaining', 'Is', 'Was', 'supposed', 'minutes', 'ago', 'Website', 'shows', 'On', 'Time', 'In', 'Julie', 'Andrews', 'though', 'impressive', 'NO', 'wish', 'Atlanta', 'Hands', 'Will', 'LA', 'February', 'trying', 'since', 'page', 'never', 'loads', 'thx', 'Need', 'stat', 'Lady', 'Gaga', 'She', 'Carrie', 'New', 'marketing', 'song', 'let', 'us', 'called', 'adding', 'shown', 'Sorry', 'Mary', 'beat', 'DAL', 'DCA', 'Tried', 'check', 'Status', 'please', 'someone', 'Hi', 'hold', 'earlier', 'tonight', 'Congrats', 'winning', 'award', 'Deals', 'Airline', 'US', 'everything', 'fine', 'lost', 'bag', 'change', 'reservation', 'Have', 'credit', 'card', 'Do', 'modify', 'waive', 'fee', 'Or', 'customer', 'service', 'team', 'Let', 'tracking', 'booked', 'baggage', 'lax', 'needs', 'step', 'game', 'dirty', 'tables', 'floors', 'worried', 'ride', 'plane', 'crew', 'airlines', 'like', 'yall', 'Sat', 'morning', 'Any', 'correct', 'bill', 'watch', 'best', 'student', 'films', 'feet', 'different', 'media', 'Bags', 'going', 'anyway', 'speak', 'human', 'asap', 'Thank', 'biz', 'traveler', 'neverflyvirginforbusiness', 'member', 'inflight', 'interested', 'Whenever', 'delayed', 'Late', 'interesting', 'Cancelled', 'four', 'disappointing', 'shared', 'business', 'meet', 'trouble', 'wife', 'bring', 'using', 'code', 'Random', 'distribution', 'bet', 'share', 'Flying', 'Life', 'happens', 'Can', 'home', 'Why', 'When', 'back', 'Yeah', 'points', 'recent', 'TV', 'video', 'Just', 'disappointed', 'Flightled', 'went', 'jfk', 'Saturday', 'landed', 'friendly', 'redirected', 'website', 'BTW', 'user', 'tried', 'desktop', 'mobile', 'scanned', 'passengers', 'leave', 'told', 'remove', 'class', 'bin', 'uncomfortable', 'find', 'anyone', 'useless', 'boy', 'Prince', 'SF', 'Thursday', 'must', 'appointments', 'music', 'direct', 'FLLgFO', 'unexpected', 'layover', 'Vegas', 'fuel', 'peeps', 'bought', 'sneaky', 'AM', 'apt', 'Three', 'people', 'exp', 'customerservice', 'virginamerica', 'line', 'hung', 'sarcasm', 'tripping', 'plain', 'text', 'version', 'enter', 'info', 'scheduled', 'Changed', 'weather', 'Looks', 'getaway', 'deals', 'oneway', 'Lots', 'cities', 'Chealights', 'Farompare', 'concerned', 'tech', 'flown', 'representatives', 'comfortable', 'Another', 'rep', 'kicked', 'butt', 'represents', 'beautifully', 'beautiful', 'design', 'right', 'bc', 'secure', 'Love', 'running', 'Gate', 'LAS', 'Waited', 'kept', 'Use', 'browser', 'reputation', 'compatible', 'And', 'totally', 'Folks', 'problem', 'min', 'delay', 'connecting', 'seems', 'long', 'thanks', 'outstanding', 'San', 'Francisco', 'absolute', 'ever', 'Every', 'delighted', 'provide', 'complimentary', 'upgrades', 'thats', 'wait', 'Im', 'calling', 'intern', 'completely', 'month', 'nonstop', 'depart', 'JFKgFO', 'failing', 'customers', 'process', 'link', 'TSA', 'precheck', 'Terrible', 'hotel', 'hotline', 'sorry', 'Cabo', 'assistance', 'yesterday', 'give', 'Shame', 'register', 'dog', 'gt', 'Dulles', 'The', 'queue', 'longer', 'Pls', 'advise', 'ROCK', 'Oscars', 'redcarpet', 'oscars', 'dropped', 'track', 'always', 'buy', 'anxiety', 'frustrated', 'paying', 'extra', 'bucks', 'luggage', 'might', 'afford', 'hiring', 'hand', 'lame', 'world', 'takes', 'cake', 'cant', 'imagine', 'Web', 'indicates', 'andor', 'staff', 'super', 'helpful', 'ran', 'Princesalf', 'spoiled', 'comfort', 'paid', 'premium', 'across', 'offer', 'Sad', 'face', 'question', 'possible', 'infant', 'giving', 'Always', 'welcome', 'dc', 'sunset', 'globe', 'work', 'refreshed', 'understand', 'DM', 'answer', 'damaged', 'policy', 'destroyed', 'special', 'alone', 'kids', 'Priority', 'boarding', 'thank', 'checking', 'tickets', 'purchased', 'happy', 'coming', 'Field', 'definitely', 'Monday', 'LGA', 'DFW', 'license', 'expired', 'Friday', 'problems', 'web', 'keeps', 'error', 'contact', 'minute', 'reschedule', 'button', 'fix', 'got', 'email', 'TOMORROW', 'unacceptable', 'lga', 'Flighted', 'stuck', 'include', 'wine', 'Only', 'white', 'offered', 'look', 'browsers', 'CSS', 'agent', 'silver', 'closed', 'assist', 'Plans', 'Austin', 'Route', 'normal', 'receive', 'reply', 'Central', 'Baggage', 'smh', 'Logan', 'airport', 'waiting', 'checkin', 'Checkin', 'desk', 'open', 'jump', 'Dallaustin', 'market', 'Takes', 'Southwesir', 'LUV', 'Business', 'Daily', 'show', 'begin', 'April', 'congrats', 'Fuck', 'follow', 'many', 'apologies', 'worse', 'respond', 'shame', 'spend', 'money', 'stranded', 'landing', 'JFK', 'Who', 'reimburse', 'SJC', 'choice', 'Southwest', 'days', 'YOUR', 'confirmation', 'claim', 'BOS', 'tomorrow', 'notification', 'rebook', 'Gold', 'If', 'CMH', 'lot', 'thrown', 'sad', 'Worst', 'stuff', 'wrong', 'Had', 'worst', 'Having', 'issue', 'finding', 'missing', 'item', 'headed', 'Americairlines', 'met', 'Upgrade', 'lose', 'suck', 'Same', 'Because', 'Flightlation', 'notice', 'PS', 'Mon', 'Boston', 'PSP', 'ability', 'expected', 'dancing', 'high', 'school', 'dance', 'quick', 'apparently', 'faster', 'sitting', 'nervous', 'DC', 'sent', 'picture', 'Virgimerica', 'wing', 'Keep', 'goodness', 'field', 'pressure', 'Texas', 'crisis', 'Please', 'NY', 'Pilots', 'job', 'snow', 'area', 'monday', 'afternoon', 'Row', 'recline', 'mention', 'mechanical', 'pros', 'drink', 'precipitation', 'scared', 'twitter', 'killed', 'rescheduling', 'charged', 'refusing', 'refund', 'access', 'Safari', 'hone', 'Seems', 'ad', 'Passbook', 'clicking', 'received', 'broken', 'Points', 'looking', 'forward', 'rescheduled', 'One', 'sec', 'land', 'Cost', 'ugh', 'along', 'subsequent', 'putting', 'PDX', 'gonna', 'bug', 'report', 'center', 'bit', 'Like', 'Site', 'attendant', 'Awesome', 'Watch', 'Trying', 'reset', 'password', 'arrives', 'based', 'Very', 'nicely', 'watching', 'something', 'departure', 'todays', 'Palm', 'Springs', 'hahaha', 'YOU', 'GUYS', 'ARE', 'AMAZING', 'LOVE', 'sounds', 'fun', 'updates', 'Jfk', 'Lax', 'unusable', 'checked', 'count', 'somehow', 'luv', 'continues', 'helping', 'sorted', 'Sweet', 'route', 'blasting', 'gate', 'Sarancisco', 'coffee', 'passenger', 'Flt', 'assaulted', 'trust', 'Crew', 'filed', 'destination', 'severely', 'wheel', 'SAN', 'Luggage', 'easy', 'itinerary', 'shift', 'impending', 'painless', 'see', 'girls', 'inspired', 'become', 'pilots', 'WOAW', 'event', 'March', 'ABQ', 'Good', 'entire', 'beats', 'expectations', 'shares', 'Santa', 'Sentinel', 'plans', 'BIG', 'improve', 'requested', 'window', 'confirmed', 'Not', 'treat', 'Grand', 'Hotel', 'Next', 'wtf', 'purpose', 'exhausted', 'frequent', 'flier', 'inconvenience', 'full', 'sweet', 'Boo', 'refunding', 'place', 'financial', 'results', 'USA', 'TODAY', 'Adds', 'Pillows', 'Instead', 'Lilat', 'Seats', 'First', 'Class', 'Arms', 'Race', 'advantage', 'Mayweatheacquiao', 'virgin', 'fight', 'makes', 'salt', 'Better', 'cabin', 'behind', 'row', 'DISAPPOINTED', 'fav', 'hot', 'female', 'pilot', 'Paris', 'surgery', 'tell', 'already', 'contacted', 'charging', 'suitcase', 'errors', 'past', 'order', 'regulation', 'Atlantic', 'benefits', 'husband', 'ordered', 'drinks', 'screen', 'came', 'seatbelt', 'light', 'barely', 'turbulence', 'consecutive', 'profit', 'Funny', 'story', 'dislike', 'Results', 'position', 'wondering', 'application', 'profitability', 'despite', 'revenue', 'gives', 'positive', 'sees', 'increased', 'competition', 'CT', 'sort', 'SOS', 'delays', 'emails', 'says', 'expect', 'winds', 'temperature', 'degrees', 'loved', 'safety', 'sorrynotsorry', 'day', 'section', 'Chrome', 'Might', 'wanna', 'wanted', 'routes', 'planned', 'Newark', 'hope', 'Probably', 'inappropriate', 'board', 'standby', 'They', 'understanding', 'helped', 'Thx', 'brought', 'absolutely', 'assets', 'ready', 'manage', 'looks', 'urgent', 'treatment', 'old', 'battling', 'cancer', 'may', 'Other', 'less', 'half', 'price', 'round', 'fare', 'stunned', 'WTF', 'happening', 'DTW', 'sold', 'promo', 'made', 'portfolio', 'tonite', 'returned', 'Call', 'JKF', 'bound', 'duffle', 'paperwork', 'promised', 'Still', 'resolution', 'central', 'performance', 'demo', 'evening', 'taking', 'care', 'lovely', 'soft', 'views', 'mileage', 'challenge', 'several', 'facing', 'keep', 'Many', 'Follow', 'ourprincess', 'Looking', 'Got', 'ball', 'Flightly', 'adore', 'glad', 'mentioned', 'took', 'years', 'earned', 'spending', 'Get', 'Sent', 'couple', 'messages', 'provided', 'avail', 'try', 'Cheers', 'smooth', 'Easily', 'SFOFLL', 'hoping', 'forced', 'small', 'carry', 'empty', 'space', 'slow', 'spoke', 'representative', 'solution', 'loyal', 'flies', 'well', 'mere', 'Left', 'jacket', 'sfo', 'partners', 'payment', 'method', 'rates', 'visa', 'product', 'southwest', 'recommend', 'pls', 'AUS', 'Bruh', 'course', 'family', 'ok', 'pink', 'mood', 'lighting', 'singer', 'Think', 'receipt', 'ASAP', 'Could', 'embossed', 'badges', 'patches', 'superior', 'ones', 'currently', 'standards', 'squared', 'Someone', 'picked', 'tweeted', 'Should', 'sooner', 'Avis', 'rental', 'continue', 'car', 'sucks', 'cust', 'lap', 'child', 'Of', 'Happy', 'Year', 'chance', 'gift', 'Bank', 'joke', 'Nothing', 'constant', 'bank', 'also', 'For', 'Grandma', 'bday', 'greeting', 'stewardess', 'Eastern', 'Airlines', 'tix', 'ATX', 'yr', 'BEST', 'Anytime', 'Great', 'Wow', 'moment', 'Unexpected', 'gesture', 'send', 'submitted', 'request', 'LOVED', 'fat', 'It', 'CEO', 'jetblue', 'low', 'cost', 'model', 'brilliant', 'cue', 'ploughs', 'lone', 'furrow', 'Middlast', 'omg', 'planes', 'thought', 'pulling', 'hair', 'computer', 'cannot', 'laptop', 'starting', 'Guess', 'road', 'Been', 'needing', 'make', 'trips', 'come', 'announced', 'Never', 'dollar', 'deserved', 'FYI', 'address', 'exist', 'bounce', 'flt', 'towards', 'requirement', 'Cust', 'Svc', 'develop', 'app', 'favorite', 'crap', 'channels', 'UK', 'tv', 'set', 'channel', 'passbook', 'Mobile', 'Mexico', 'heaven', 'Also', 'friday', 'waste', 'paper', 'system', 'accept', 'cards', 'slots', 'instead', 'Adding', 'likely', 'charge', 'tea', 'black', 'caffeine', 'See', 'destinations', 'wings', 'announces', 'intro', 'adds', 'learn', 'PHL', 'Hope', 'returns', 'tweet', 'INCREDIBLE', 'experienced', 'refreshing', 'Now', 'Philadelphia', 'Did', 'Houston', 'OMG', 'FINALLY', 'avgeek', 'expanding', 'forget', 'Saiego', 'kinda', 'sucked', 'jack', 'future', 'poor', 'malfunction', 'Stuck', 'Missing', 'meeting', 'Diego', 'thankyou', 'DALAUS', 'nerdbird', 'Jose', 'That', 'excellent', 'frequency', 'Portland', 'additional', 'Thurs', 'items', 'carryon', 'lock', 'group', 'room', 'bins', 'bags', 'nightmare', 'forcing', 'lots', 'cheese', 'classy', 'sure', 'strong', 'Silver', 'opens', 'save', 'shit', 'club', 'bumping', 'York', 'rough', 'Minneapolis', 'St', 'perfect', 'sun', 'stay', 'raise', 'man', 'steel', 'Wi', 'saying', 'ALL', 'RIGHT', 'saw', 'Man', 'sharing', 'point', 'hotspot', 'ate', 'Flights', 'part', 'whole', 'short', 'haul', 'Europe', 'Would', 'wifi', 'AND', 'ABC', 'network', 'started', 'overhead', 'person', 'seated', 'calls', 'ask', 'While', 'Flighting', 'luck', 'Dear', 'accommodate', 'commercial', 'lol', 'others', 'exposed', 'actual', 'Serv', 'As', 'travelers', 'affected', 'storm', 'shocked', 'complete', 'toward', 'Umm', 'definitive', 'advance', 'fees', 'Main', 'Cabin', 'Select', 'without', 'penalty', 'industry', 'months', 'waived', 'reps', 'sign', 'bonuses', 'enroll', 'folks', 'incredible', 'regarding', 'recieved', 'dm', 'potentially', 'movie', 'actually', 'Book', 'town', 'MR', 'word', 'resolve', 'Delayed', 'lack', 'deicing', 'united', 'international', 'Glasgow', 'Then', 'orlando', 'mins', 'boarded', 'tough', 'wo', 'serious', 'risk', 'accident', 'hooked', 'alternate', 'issues', 'domestic', 'law', 'Oh', 'auto', 'economy', 'transfer', 'Flawed', 'security', 'logic', 'United', 'pair', 'shoes', 'David', 'cousin', 'worked', 'wonderful', 'voucher', 'January', 'beginning', 'mail', 'emailing', 'company', 'maybe', 'timely', 'manner', 'Chase', 'pass', 'son', 'suppose', 'weak', 'ya', 'didnt', 'given', 'Miami', 'jan', 'awards', 'September', 'drive', 'total', 'explain', 'debacle', 'wants', 'talk', 'almost', 'caring', 'ppl', 'trusted', 'adult', 'daughter', 'We', 'repeatedly', 'Flightr', 'preferred', 'anymore', 'My', 'pull', 'partner', 'Platinum', 'Airport', 'terminals', 'newly', 'married', 'update', 'refuse', 'mechanics', 'badcustomerservice', 'run', 'instructed', 'agents', 'rude', 'thankfully', 'nice', 'overnight', 'clients', 'hr', 'IAH', 'recheck', 'taken', 'loaner', 'used', 'illegal', 'according', 'regulations', 'DMed', 'details', 'iah', 'charlotte', 'existent', 'Ignored', 'touched', 'guess', 'awhile', 'form', 'vouchers', 'expense', 'inconvenient', 'anywhere', 'concern', 'upon', 'Australia', 'ground', 'removal', 'else', 'moving', 'appreciate', 'tarmac', 'Am', 'expenses', 'Austrian', 'codeshare', 'Rebook', 'outside', 'truly', 'breaks', 'guitars', 'third', 'Colo', 'disabled', 'search', 'flex', 'rules', 'Even', 'enough', 'Denver', 'handle', 'training', 'Too', 'put', 'mistakes', 'ORD', 'found', 'avoided', 'plague', 'supervisor', 'connect', 'waited', 'addition', 'arriving', 'announcement', 'pre', 'addresses', 'disability', 'requires', 'preboard', 'AWESOME', 'thru', 'dept', 'Okc', 'willing', 'connection', 'upset', 'services', 'employees', 'carrying', 'medical', 'equipment', 'thnx', 'Our', 'intl', 'grp', 'wont', 'active', 'military', 'mom', 'emergency', 'brain', 'WOW', 'Fligh', 'STILL', 'HAVE', 'NOT', 'MY', 'MILES', 'THE', 'Mileaglus', 'Card', 'OVER', 'improvement', 'complained', 'guy', 'throwing', 'coincidence', 'OKC', 'Roger', 'LESS', 'Intl', 'apps', 'construction', 'American', 'WC', 'coach', 'bird', 'ahead', 'rather', 'App', 'Customer', 'Care', 'telling', 'break', 'sincerely', 'silly', 'delta', 'attendants', 'surly', 'unhelpful', 'seem', 'bothered', 'folk', 'buddies', 'negligence', 'attempt', 'believe', 'Said', 'FLL', 'disappeared', 'standing', 'Second', 'Hmm', 'record', 'nuts', 'guide', 'asking', 'read', 'everyone', 'UA', 'informative', 'outbound', 'switched', 'aircraft', 'crashed', 'Again', 'plus', 'Easy', 'knew', 'winter', 'negotiate', 'resolutions', 'coats', 'scam', 'reach', 'honor', 'Taking', 'elsewhere', 'Supposed', 'hear', 'quite', 'pathetic', 'booted', 'unavailable', 'ways', 'unaccompanied', 'minor', 'bench', 'Baby', 'Hannah', 'life', 'saving', 'surgeries', 'requirehe', 'hells', 'DonatT', 'mine', 'scheduling', 'huh', 'remorse', 'By', 'simple', 'apology', 'goes', 'obvious', 'shocking', 'repeated', 'neglect', 'disrespect', 'Fingers', 'crossed', 'intact', 'enjoyed', 'incredibly', 'zone', 'July', 'ZERO', 'excuses', 'causes', 'Everyone', 'members', 'October', 'December', 'talking', 'SNA', 'weekend', 'asked', 'legitimate', 'systemwide', 'vs', 'unrate', 'Flightd', 'skis', 'faith', 'Amazing', 'continually', 'fails', 'held', 'Wonder', 'Super', 'Tides', 'French', 'coasts', 'probably', 'whoever', 'caused', 'wonder', 'FB', 'characters', 'doesnt', 'appear', 'coupon', 'drop', 'cheaper', 'airfare', 'property', 'Heathrow', 'message', 'REALLY', 'unhappy', 'complaint', 'Awful', 'private', 'jet', 'funds', 'common', 'meetings', 'yep', 'matter', 'atl', 'grounded', 'Louis', 'difficult', 'prepares', 'reduce', 'ALWAYS', 'traveling', 'stressful', 'severe', 'client', 'Bc', 'filled', 'confident', 'works', 'indication', 'California', 'airports', 'connections', 'seeing', 'conf', 'Luckily', 'communication', 'far', 'horrid', 'note', 'Booked', 'fiancée', 'UNACCEPTABLE', 'HORRIBLE', 'To', 'top', 'ANY', 'Uniteirlines', 'kudos', 'Flightling', 'usually', 'panic', 'ontime', 'advisory', 'quoted', 'remembered', 'turn', 'heat', 'extremely', 'Captain', 'Steve', 'real', 'resolved', 'politely', 'hence', 'clothes', 'curious', 'operational', 'Washington', 'convenient', 'lostluggage', 'leg', 'Chicago', 'China', 'lounge', 'DMs', 'file', 'Okay', 'properly', 'train', 'Requested', 'transferred', 'dead', 'load', 'onto', 'forgot', 'atrocious', 'impossible', 'TO', 'HUMAN', 'terminal', 'esp', 'Two', 'recommended', 'responded', 'various', 'requests', 'numbers', 'Lusaka', 'transatlantic', 'LHR', 'arrival', 'Planning', 'information', 'Want', 'confirm', 'completed', 'doubt', 'vacation', 'Sure', 'responsibility', 'Definitely', 'compliment', 'thanx', 'followed', 'unitedairlines', 'remember', 'season', 'pays', 'nope', 'sleep', 'assured', 'updated', 'compensation', 'original', 'case', 'He', 'happen', 'defines', 'valid', 'strange', 'inbound', 'canned', 'lands', 'delivered', 'arrive', 'delivery', 'hotels', 'hostage', 'passes', 'FAIL', 'lbs', 'Returning', 'WHY', 'writing', 'required', 'wour', 'Getting', 'runaround', 'Each', 'employee', 'blaming', 'previous', 'local', 'UNITED', 'KUL', 'okay', 'wdelays', 'Tel', 'lady', 'tel', 'aviv', 'Aviv', 'knows', 'Most', 'answers', 'Unacceptable', 'feedback', 'taxis', 'offering', 'rooms', 'tired', 'action', 'solving', 'skiing', 'comment', 'CLT', 'move', 'Unhappy', 'idea', 'neveragain', 'responding', 'within', 'Cancun', 'frustrating', 'Continental', 'purchase', 'figure', 'pack', 'screws', 'claims', 'Fran', 'pax', 'Way', 'hou', 'Wtf', 'POS', 'Lost', 'Agent', 'counter', 'nobody', 'unfortunately', 'Tarmac', 'regret', 'finally', 'Manchester', 'doors', 'premier', 'annoyed', 'yea', 'phoenix', 'Delays', 'bullshit', 'consolation', 'stellar', 'encountered', 'unfortunate', 'ripped', 'front', 'pocket', 'Delhi', 'centers', 'Poor', 'spread', 'thin', 'stressed', 'Yes', 'mistake', 'absurd', 'fact', 'constantly', 'challenges', 'charges', 'prevent', 'addtl', 'walked', 'happily', 'publicly', 'strangers', 'nah', 'needed', 'split', 'ruined', 'phn', 'means', 'BWI', 'Pretty', 'pm', 'mammoth', 'appropriate', 'reviewed', 'Expect', 'fixed', 'BS', 'questions', 'stall', 'Phone', 'Yo', 'yo', 'Going', 'highly', 'unprofessional', 'overbook', 'rearrange', 'considering', 'claimed', 'unable', 'JP', 'Ice', 'Flightations', 'courtesy', 'diff', 'tag', 'consider', 'terrible', 'bar', 'post', 'disappointment', 'apple', 'bunch', 'impress', 'phones', 'Ethiopia', 'adopting', 'existing', 'outlets', 'deserves', 'FTW', 'holidays', 'incompetence', 'Twitter', 'letting', 'helps', 'Connection', 'exact', 'Checked', 'ridiculous', 'carousel', 'stopped', 'sched', 'monitor', 'patterns', 'easier', 'Delay', 'manually', 'tags', 'friendlyskies', 'spare', 'unless', 'disaster', 'period', 'Ridiculous', 'reimbursement', 'loaded', 'Plane', 'feels', 'falling', 'apart', 'fleet', 'served', 'beverage', 'notcool', 'major', 'impact', 'unscheduled', 'refueling', 'bed', 'sandwich', 'spent', 'hundreds', 'rectify', 'situation', 'quiet', 'Pilot', 'computers', 'clue', 'ends', 'Come', 'traveled', 'literally', 'Made', 'list', 'reminder', 'looked', 'refunded', 'device', 'devices', 'scan', 'inside', 'changes', 'thinks', 'wasted', 'failures', 'assume', 'norm', 'Terrific', 'resulted', 'suspect', 'Case', 'requesting', 'Where', 'efforts', 'final', 'Today', 'finest', 'prevented', 'advising', 'Madrid', 'confusion', 'fro', 'failure', 'projects', 'airplane', 'reports', 'delaying', 'Currently', 'OGG', 'dispatch', 'touch', 'however', 'displayed', 'closest', 'clothing', 'ASE', 'adjacent', 'gates', 'clear', 'reference', 'discuss', 'experiences', 'shot', 'Pacific', 'Night', 'cut', 'randomly', 'spot', 'generic', 'Yet', 'Kindle', 'unnecessary', 'horrible', 'carseat', 'Decisions', 'included', 'AA', 'showed', 'ensure', 'lie', 'flat', 'STL', 'date', 'Premier', 'membership', 'catch', 'wastedtime', 'Karen', 'Found', 'tells', 'Reno', 'chicken', 'fairs', 'DEN', 'Direct', 'Ugh', 'caught', 'Reservations', 'reinstated', 'captain', 'behalf', 'office', 'photo', 'attached', 'JAC', 'These', 'Christmas', 'THANK', 'VERY', 'thanked', 'goodenoughmother', 'damn', 'Greetings', 'Air', 'Canada', 'Lounge', 'YVR', 'diverted', 'MSY', 'cared', 'Male', 'agnt', 'threatens', 'Canadian', 'pic', 'announce', 'reserv', 'wout', 'tho', 'frm', 'SEA', 'rlight', 'OUR', 'connector', 'floor', 'gross', 'statement', 'vice', 'directly', 'example', 'dealing', 'otherwise', 'proper', 'upload', 'ondemand', 'inadequate', 'International', 'quickly', 'tool', 'unfriendlyskies', 'worth', 'seen', 'About', 'searched', 'BOM', 'single', 'saver', 'play', 'Earn', 'miles', 'promises', 'location', 'girl', 'gotta', 'ex', 'boyfriend', 'signed', 'notifications', 'shall', 'wallet', 'stolen', 'til', 'cs', 'repair', 'damage', 'Tuesday', 'Took', 'changed', 'responses', 'overbooked', 'fit', 'nonsense', 'incur', 'costs', 'Link', 'abt', 'denied', 'prove', 'fits', 'Read', 'bio', 'exactly', 'Boarding', 'yrs', 'blame', 'assuming', 'Check', 'Staff', 'etc', 'fucked', 'voided', 'WORST', 'Kevin', 'investigated', 'argument', 'sell', 'cuz', 'hubby', 'PQD', 'enuf', 'Belfast', 'resume', 'awful', 'appears', 'raising', 'ignored', 'Lovely', 'power', 'ID', 'rarely', 'loud', 'claiming', 'walk', 'poorcustomerservice', 'AN', 'HOUR', 'head', 'forth', 'multiple', 'avoid', 'correctly', 'Extremely', 'management', 'Salt', 'Lake', 'refuses', 'consistent', 'angry', 'committed', 'merger', 'glitch', 'flyers', 'states', 'maintenance', 'truth', 'easily', 'personal', 'departing', 'killing', 'Etihad', 'lets', 'Lufthansa', 'ill', 'sick', 'FORGOT', 'replacement', 'theworst', 'Asked', 'typical', 'Rather', 'speaking', 'friend', 'TWICE', 'hates', 'ISIS', 'Nope', 'Walked', 'ORF', 'driven', 'frustration', 'effort', 'clearing', 'priority', 'Waiting', 'Apparently', 'planehow', 'choosing', 'difference', 'reuniting', 'general', 'enquires', 'attention', 'LIT', 'Fix', 'Aspen', 'NEVER', 'Disappointed', 'understatement', 'Does', 'placed', 'certainly', 'recovering', 'Florida', 'buying', 'legs', 'allowed', 'listening', 'overweight', 'fb', 'measure', 'woman', 'counting', 'max', 'epicfailunited', 'miserable', 'blocked', 'complain', 'public', 'Big', 'assisting', 'mile', 'article', 'twice', 'redeem', 'CC', 'ton', 'Whats', 'rows', 'boston', 'Horrible', 'Arriving', 'wiped', 'musicians', 'rebooked', 'deep', 'whose', 'deserve', 'holder', 'Ok', 'Cleveland', 'Sunday', 'Stay', 'tuned', 'blog', 'basically', 'assigned', 'sense', 'strand', 'Bag', 'Change', 'seconds', 'Loved', 'English', 'deaf', 'Stop', 'yelling', 'slowly', 'hassle', 'terribly', 'hate', 'control', 'Robin', 'Premiere', 'Desk', 'Huge', 'accommodations', 'originally', 'Jimmy', 'Samartzis', 'President', 'Experience', 'AC', 'returning', 'Giving', 'badservice', 'whatever', 'steps', 'remedy', 'screw', 'Dublin', 'London', 'stillnobags', 'hosting', 'cute', 'PJs', 'confidence', 'loading', 'pt', 'Finally', 'stndby', 'kindness', 'conveniently', 'hop', 'Hopefully', 'result', 'complaints', 'beauty', 'fill', 'duped', 'speed', 'extent', 'urgency', 'ceo', 'focused', 'partial', 'hell', 'bulkhead', 'reserve', 'impressed', 'including', 'Flightst', 'IN', 'Thankyou', 'replies', 'Feel', 'settled', 'RDU', 'medal', 'saga', 'reunion', 'shopping', 'onboard', 'reasonable', 'Literally', 'preboarding', 'Making', 'unnecessarily', 'pts', 'Point', 'overselling', 'kick', 'compliant', 'screwed', 'Hold', 'MEX', 'NRT', 'dates', 'compared', 'BKK', 'boards', 'ten', 'gold', 'answered', 'usairwaysfail', 'practical', 'cushion', 'consistently', 'daily', 'outsource', 'loving', 'Outsource', 'collect', 'suggest', 'senior', 'manager', 'retrain', 'States', 'supporting', 'puts', 'TIMCO', 'formally', 'handler', 'bridge', 'freezing', 'SERIOUSLY', 'CLESFO', 'ONLY', 'pointless', 'shoe', 'foot', 'Either', 'However', 'dollars', 'bother', 'door', 'global', 'unsafe', 'reimbursed', 'Flightation', 'YYZ', 'id', 'piss', 'fake', 'engine', 'confusing', 'frigid', 'Her', 'fritz', 'Held', 'pick', 'released', 'deplaning', 'extend', 'advertise', 'verbal', 'written', 'confirmations', 'BUT', 'ticketed', 'confirming', 'Shameful', 'unfriendly', 'moms', 'pray', 'chair', 'UP', 'Lol', 'forces', 'baby', 'complains', 'meals', 'san', 'Unreal', 'issued', 'Tickets', 'fixing', 'Arrive', 'Taiwan', 'Reservation', 'excuse', 'understaffed', 'costumer', 'Weather', 'Has', 'departed', 'prize', 'denver', 'Understood', 'reaching', 'oops', 'Last', 'crazy', 'heads', 'midnight', 'injured', 'TY', 'feb', 'ON', 'FA', 'From', 'worthless', 'SUCK', 'shut', 'JH', 'stand', 'Problem', 'police', 'msg', 'dry', 'cleaning', 'wet', 'DELAY', 'BECAUSE', 'OF', 'MCI', 'Jet', 'Airways', 'segment', 'assign', 'There', 'deliver', 'Slightly', 'searching', 'altitude', 'drops', 'transaction', 'contacting', 'showing', 'acct', 'policies', 'reservations', 'ETA', 'More', 'rights', 'nite', 'cun', 'ewr', 'WORSTCUSTOMERSERVICE', 'rerouted', 'intended', 'solved', 'flierfriendly', 'notes', 'pleased', 'garbage', 'cry', 'supplies', 'limited', 'epic', 'jetway', 'operated', 'Zurich', 'replacing', 'till', 'Milan', 'Frankfurt', 'huge', 'fan', 'Beyond', 'double', 'svc', 'Lisa', 'breakfast', 'irritated', 'gets', 'JJ', 'humor', 'seatback', 'Glad', 'copy', 'paste', 'failed', 'Delta', 'Small', 'ual', 'hanger', 'ATL', 'Tampa', 'Arrived', 'Wifi', 'robotic', 'deck', 'DR', 'write', 'terribleservice', 'Nervice', 'visit', 'wearing', 'ADD', 'GRR', 'Raleigh', 'freq', 'treated', 'poorly', 'Servicail', 'rsw', 'lousy', 'AFTER', 'reissued', 'fault', 'blatant', 'honeymoon', 'WHERE', 'IS', 'upgraded', 'gotten', 'EU', 'certain', 'epicfail', 'CX', 'Make', 'aware', 'hilarious', 'KTN', 'applying', 'Unfortunately', 'picking', 'funny', 'wreck', 'main', 'Due', 'officially', 'pleasant', 'timeliness', 'switching', 'Mileage', 'Program', 'Saying', 'ons', 'Rlight', 'acknowledge', 'losing', 'DOT', 'driving', 'brother', 'condescending', 'house', 'pleasure', 'Sending', 'Group', 'Almost', 'Explorer', 'WILL', 'bos', 'efficient', 'lines', 'definition', 'Additional', 'groups', 'Barbara', 'wake', 'BF', 'GF', 'Cc', 'Maybe', 'Philly', 'Tues', 'UAL', 'BUF', 'Nashville', 'surprised', 'ads', 'Fail', 'solutions', 'freaked', 'snowy', 'inefficiency', 'attempted', 'Coach', 'interior', 'dozen', 'CSR', 'PLZ', 'catching', 'snowstorm', 'patience', 'whats', 'newark', 'Peace', 'bus', 'BDL', 'changing', 'annoying', 'Missed', 'prob', 'compensate', 'hearing', 'jacked', 'deice', 'AGAIN', 'filling', 'hit', 'workers', 'refused', 'tone', 'managed', 'lazy', 'reasons', 'grand', 'watched', 'ice', 'frozen', 'metal', 'Wasted', 'jobs', 'inept', 'truck', 'value', 'Ever', 'Actually', 'fast', 'reconsider', 'attitude', 'level', 'respect', 'pat', 'sat', 'Over', 'Disgusting', 'hugely', 'restore', 'surprise', 'fucken', 'worstairlineever', 'rollers', 'GATE', 'wu', 'valuable', 'removed', 'parked', 'Stranded', 'desperately', 'girlfriend', 'chances', 'coat', 'frontrunner', 'Worked', 'charm', 'goodflight', 'pretzels', 'lowered', 'earn', 'talked', 'caned', 'crappy', 'performing', 'century', 'legal', 'hanging', 'intentionally', 'higher', 'felt', 'switch', 'stayed', 'IAHMNL', 'clicked', 'advertising', 'view', 'MI', 'connected', 'quality', 'regards', 'bounced', 'spanish', 'mech', 'sincere', 'sunglasses', 'retrieve', 'exception', 'contract', 'PVD', 'upcoming', 'Singapore', 'cover', 'dumb', 'programs', 'hurt', 'ua', 'taxi', 'bull', 'memories', 'comes', 'crying', 'ski', 'dreams', 'attempting', 'locate', 'worker', 'Toronto', 'seriousness', 'Given', 'circumstances', 'disconnect', 'PR', 'strategy', 'liars', 'segments', 'Maui', 'Flighail', 'reliable', 'happycustomer', 'GIVE', 'ABOUT', 'CUSTOMERS', 'none', 'tweets', 'travelling', 'Bogota', 'Colombia', 'act', 'OMA', 'quote', 'organization', 'timing', 'Otis', 'Bay', 'pissed', 'important', 'kidding', 'ny', 'trace', 'FUCKING', 'BAG', 'fuck', 'fucking', 'TELL', 'ME', 'OR', 'NUMBER', 'CALL', 'amongst', 'Flightlations', 'describe', 'LOL', 'Per', 'tail', 'probs', 'Miss', 'dinner', 'honest', 'Seriously', 'solve', 'Charging', 'Brilliant', 'excellence', 'efficiency', 'KCI', 'except', 'irresponsible', 'den', 'capt', 'sympathetic', 'explanation', 'São', 'Paulo', 'relative', 'availability', 'intent', 'cab', 'PIT', 'rcvd', 'extended', 'dont', 'cheap', 'Worsirline', 'travels', 'misses', 'horrific', 'comedy', 'incompetent', 'ideas', 'bummer', 'realize', 'contents', 'cleaned', 'knowing', 'discover', 'fueled', 'im', 'voicemail', 'sending', 'inaccurate', 'Ive', 'resolving', 'Hung', 'attentiveness', 'BHM', 'accountability', 'compare', 'god', 'Wanted', 'Educate', 'Bohol', 'wall', 'volunteer', 'Albuquerque', 'NM', 'Cebu', 'Philippines', 'providing', 'educational', 'drunk', 'aisle', 'cos', 'Appreciated', 'mechanic', 'log', 'hang', 'strikes', 'Mike', 'disgusting', 'social', 'ord', 'intention', 'plan', 'nowhere', 'heading', 'packing', 'expecting', 'comp', 'possibly', 'planet', 'practices', 'retain', 'Haydensteamboat', 'HDN', 'shuttle', 'concourse', 'honestly', 'handled', 'dark', 'following', 'Known', 'Traveler', 'Number', 'origin', 'Service', 'SJO', 'Crazy', 'explore', 'ongoing', 'trapped', 'houston', 'sight', 'numerous', 'slept', 'ensuring', 'official', 'prior', 'gettin', 'sunrise', 'describing', 'arrogant', 'handlers', 'runway', 'false', 'ANA', 'holders', 'idiots', 'updating', 'replace', 'relationship', 'spots', 'inconvience', 'convince', 'UR', 'bumped', 'fewer', 'green', 'daughters', 'Bday', 'present', 'named', 'bots', 'obviously', 'Orlando', 'ovelight', 'breaking', 'worstairline', 'FAA', 'near', 'Pay', 'suit', 'elite', 'Elite', 'Once', 'astounding', 'Worsirlinver', 'sisters', 'click', 'true', 'seg', 'siting', 'live', 'SHV', 'exceptional', 'pushing', 'five', 'ass', 'Boise', 'hopefully', 'sometime', 'STT', 'separated', 'ATC', 'listen', 'often', 'kiosk', 'smallest', 'dad', 'tiny', 'bathroom', 'WE', 'GOT', 'FOR', 'credits', 'unitedsucks', 'continuous', 'dunno', 'Ashley', 'Kudos', 'disgruntled', 'enjoy', 'screaming', 'toddlers', 'choose', 'competitor', 'Jackson', 'Full', 'toilets', 'Deplaned', 'pending', 'misfortune', 'causing', 'talks', 'Chi', 'zero', 'safe', 'sound', 'state', 'whenever', 'sleeping', 'copilot', 'Disappointing', 'bs', 'proof', 'ouch', 'fair', 'Nobody', 'Maintenance', 'automatically', 'Ps', 'deplaned', 'catering', 'poorservice', 'sky', 'piece', 'TVs', 'rubbish', 'meaningful', 'tire', 'broke', 'PLANE', 'processed', 'busy', 'las', 'vegas', 'reading', 'oversized', 'carryons', 'Conf', 'appreciated', 'limit', 'deplane', 'Entertainment', 'crashing', 'texts', 'defend', 'strongly', 'hire', 'Norfolk', 'Renting', 'DIA', 'Maine', 'Told', 'bagsno', 'allowance', 'Major', 'cluster', 'reroute', 'Phl', 'stranding', 'disgusted', 'conference', 'continuing', 'Memphis', 'Off', 'notify', 'allow', 'Says', 'affect', 'Bereavement', 'discount', 'grandfather', 'passed', 'attend', 'funeral', 'notified', 'Complete', 'violation', 'maintained', 'safely', 'Flightledflight', 'meant', 'ORDYWG', 'itineraries', 'Tucson', 'volunteers', 'JAN', 'notifying', 'Capt', 'passport', 'recovered', 'Terminal', 'tick', 'tock', 'approaching', 'dream', 'Train', 'communicate', 'pants', 'empathy', 'Uh', 'Rebooked', 'appalled', 'journey', 'explained', 'DMing', 'self', 'Tag', 'Name', 'spelled', 'Cause', 'consistency', 'citing', 'calendar', 'adopted', 'Baustomeervice', 'occur', 'Hoping', 'Start', 'perhaps', 'btw', 'ahold', 'delete', 'ah', 'Cannot', 'hep', 'notch', 'happier', 'departures', 'logged', 'redeemed', 'Priceless', 'thread', 'Eco', 'occurred', 'purchasing', 'screwing', 'CAE', 'Incredibly', 'skilled', 'deleted', 'Western', 'Hemisphere', 'belong', 'Star', 'Alliance', 'staffed', 'hospitality', 'Anthony', 'def', 'Nicely', 'enjoying', 'Perhaps', 'snowboard', 'standard', 'pressurization', 'Juan', 'personnel', 'Honolulu', 'Appreciate', 'particularly', 'pointed', 'cnx', 'Ty', 'fam', 'checkpoint', 'radio', 'secured', 'pricey', 'oh', 'stinks', 'feeling', 'leadership', 'Inexcusable', 'throw', 'million', 'miler', 'pulled', 'departs', 'cmh', 'immediate', 'visible', 'weight', 'platinum', 'Sacramento', 'Dfw', 'Out', 'curiosity', 'arranged', 'announcements', 'Providence', 'handling', 'conditions', 'Everything', 'accepting', 'immediately', 'guarantee', 'guidelines', 'acceptable', 'ruining', 'shouldnt', 'Agents', 'pin', 'Handled', 'taxing', 'shouldhaveflowndelta', 'deiced', 'Albany', 'peanuts', 'layovers', 'LAXIAD', 'Claim', 'noticing', 'icing', 'lies', 'Real', 'Pa', 'quicker', 'sits', 'clarify', 'eastern', 'belongings', 'BE', 'loses', 'disappears', 'wasting', 'FLY', 'WITH', 'CHECKED', 'Wed', 'unknown', 'courier', 'conversations', 'Spanish', 'operate', 'ramp', 'cranky', 'checkins', 'treating', 'Hello', 'mths', 'relations', 'humans', 'clean', 'ramps', 'danger', 'leaves', 'sister', 'Detroit', 'bk', 'Asia', 'Korea', 'easiest', 'BC', 'designed', 'Bush', 'nt', 'mess', 'Tks', 'Conference', 'begins', 'Up', 'border', 'con', 'accidentally', 'popate', 'build', 'CLE', 'hey', 'concerns', 'addressed', 'ruin', 'Wait', 'alright', 'Especially', 'shitty', 'tour', 'finds', 'feces', 'sprinkled', 'lied', 'matters', 'tremendous', 'amount', 'gee', 'monitoring', 'serve', 'unreal', 'Abysmal', 'submit', 'deciding', 'unitedfail', 'mark', 'redeye', 'nonweather', 'Figured', 'families', 'children', 'goal', 'roundtrip', 'loyalty', 'Bangkok', 'hardly', 'cutting', 'perk', 'Say', 'acknowledgment', 'download', 'jeokoo', 'solo', 'foreign', 'airborne', 'hacks', 'jokers', 'HNL', 'hangs', 'THREE', 'disconnected', 'ftw', 'Much', 'appreciation', 'operator', 'cxl', 'routing', 'NJ', 'Pick', 'Suck', 'exclusively', 'badly', 'age', 'fiasco', 'qantas', 'FF', 'callback', 'Ewr', 'THEN', 'pvd', 'rent', 'corporate', 'rage', 'created', 'relaxing', 'Global', 'sadly', 'wasnt', 'mother', 'nature', 'investigate', 'incident', 'cruel', 'GREAT', 'FLATTERING', 'proud', 'SUCKS', 'Incompetent', 'Bet', 'water', 'legit', 'legroom', 'tagged', 'Bad', 'pillows', 'grandma', 'ladies', 'rest', 'orig', 'stepped', 'cookies', 'With', 'fingers', 'young', 'Wife', 'Spoke', 'tmrw', 'GPU', 'weird', 'Las', 'define', 'stream', 'rate', 'print', 'known', 'decent', 'stated', 'suffering', 'merge', 'airlinave', 'offensive', 'legally', 'operators', 'Tell', 'Which', 'speaks', 'Try', 'fire', 'hook', 'approx', 'allowing', 'buddy', 'turns', 'rated', 'Both', 'eventually', 'extreme', 'Anyone', 'pain', 'regardless', 'Example', 'approve', 'CS', 'ac', 'ship', 'flts', 'skin', 'stunning', 'similar', 'beer', 'inch', 'Miles', 'couldnt', 'wno', 'South', 'halfway', 'PM', 'degree', 'Excited', 'YOW', 'six', 'Calgary', 'DirecV', 'firstworldproblems', 'advice', 'closer', 'texted', 'traffic', 'cnxn', 'strike', 'Belize', 'transit', 'unlikely', 'overheating', 'Sky', 'Airbus', 'Reply', 'preflight', 'Dreamliner', 'breakdown', 'Recommend', 'lmfao', 'God', 'culture', 'blamed', 'Phoenix', 'LIFE', 'Shout', 'assignment', 'Ruined', 'events', 'millions', 'ranked', 'somewhat', 'draft', 'explaining', 'context', 'reminded', 'carrier', 'Us', 'ancelled', 'connects', 'irrops', 'livid', 'disregard', 'operations', 'Opal', 'Dragon', 'ALI', 'woven', 'murdering', 'Buy', 'pens', 'collection', 'pen', 'remains', 'JAX', 'BNA', 'Traveling', 'internationally', 'responds', 'formal', 'ages', 'raised', 'led', 'stood', 'blocking', 'exit', 'wheelchairs', 'commitment', 'turnaround', 'mgr', 'counted', 'individual', 'observe', 'crews', 'compensating', 'deodorant', 'shampoo', 'Plenty', 'planning', 'concept', 'PROM', 'Economy', 'Econ', 'JUST', 'ASKED', 'FLIGHT', 'HE', 'YES', 'DAY', 'SO', 'MUCH', 'submitting', 'FRA', 'satisfactory', 'disappoint', 'decisions', 'normally', 'SATURDAY', 'Rhonda', 'kind', 'carried', 'movement', 'Be', 'competent', 'filthy', 'disinfectant', 'trash', 'aboard', 'cldnt', 'plastic', 'meal', 'catered', 'stock', 'executive', 'ROC', 'useful', 'developers', 'morn', 'Orleans', 'Huston', 'hello', 'phl', 'eyes', 'preference', 'Ill', 'Moved', 'troubling', 'phenomenal', 'apply', 'Traveled', 'freaking', 'map', 'values', 'insulted', 'CVG', 'operating', 'Friend', 'royally', 'boots', 'ha', 'doubtful', 'sales', 'covering', 'North', 'threatened', 'mid', 'vital', 'Line', 'tkt', 'smile', 'Zero', 'Award', 'humour', 'Right', 'Pedro', 'Before', 'assure', 'VP', 'City', 'Office', 'guessing', 'STOP', 'IND', 'roads', 'interview', 'HOW', 'LOSE', 'decision', 'skills', 'pushed', 'Meanwhile', 'festivities', 'hole', 'prices', 'unbelievable', 'although', 'Trip', 'difficulty', 'makeup', 'nothappy', 'software', 'nothin', 'celebrate', 'SLC', 'DENPHX', 'Hate', 'selected', 'Total', 'names', 'history', 'besides', 'overall', 'Services', 'contains', 'Impressed', 'Dr', 'recently', 'backlog', 'Expedia', 'document', 'technical', 'difficulties', 'Used', 'upgrading', 'earning', 'outsourcing', 'advised', 'downhill', 'fliers', 'Long', 'accounts', 'username', 'incentive', 'Bahamas', 'cruise', 'nola', 'horrendous', 'An', 'frequentflyer', 'disgrace', 'inefficient', 'procedure', 'JACLAX', 'afraid', 'party', 'promising', 'favor', 'inevitable', 'cramped', 'cell', 'greedy', 'inspected', 'pita', 'thoughts', 'Herman', 'relayed', 'chief', 'teach', 'Safety', 'lh', 'noted', 'awkward', 'isnt', 'Went', 'TPA', 'inches', 'Friendly', 'curbside', 'MSP', 'hundred', 'detail', 'usual', 'smells', 'satisfied', 'forgive', 'BGM', 'Worse', 'decided', 'typically', 'charity', 'jailbreak', 'RAG', 'supervisors', 'aviation', 'Neork', 'rare', 'Thinking', 'push', 'consideration', 'race', 'smoothly', 'becoming', 'Mia', 'screenshot', 'wedding', 'Brothers', 'Panamerican', 'Cross', 'Country', 'Cup', 'teams', 'Columbia', 'His', 'Vicky', 'Thomas', 'plenty', 'walking', 'wks', 'Its', 'guitar', 'extension', 'especially', 'locations', 'seemed', 'situations', 'Leaving', 'standbys', 'Brian', 'cheer', 'liable', 'explanations', 'arguing', 'owner', 'forever', 'Unable', 'luggages', 'living', 'per', 'notgoodenough', 'ignore', 'mco', 'remaining', 'cares', 'pound', 'somebody', 'Rapid', 'Snow', 'Some', 'John', 'Wayne', 'blankets', 'Treated', 'star', 'alliance', 'verify', 'wheelchair', 'terrific', 'mileageplus', 'clearly', 'misinformation', 'damages', 'fwiw', 'FC', 'improved', 'cheers', 'furious', 'bankrupt', 'listed', 'False', 'department', 'type', 'Loyal', 'Team', 'Google', 'basic', 'Plus', 'bye', 'Swiss', 'disgraceful', 'golf', 'cart', 'refuel', 'bro', 'JFKLAX', 'blowing', 'significantly', 'insane', 'resend', 'handy', 'idiot', 'remote', 'mix', 'volume', 'bump', 'Listen', 'insulting', 'HA', 'wins', 'marks', 'turned', 'SFOgOS', 'transfers', 'servicefail', 'CHI', 'patient', 'clockwork', 'booze', 'folder', 'twelve', 'painful', 'puppy', 'AIRLINE', 'THEY', 'BEEN', 'PAST', 'HOURS', 'Darn', 'memory', 'tight', 'OK', 'clarification', 'premiere', 'embarrassed', 'warning', 'beg', 'conection', 'letsgo', 'chicago', 'Wednesday', 'res', 'combine', 'american', 'snacks', 'Winter', 'Storm', 'harsh', 'Watched', 'conveyer', 'belt', 'automated', 'therefore', 'unanticipated', 'Confirmed', 'Employee', 'wheels', 'Respond', 'entitled', 'transport', 'reeks', 'vomit', 'indicated', 'mad', 'num', 'approach', 'bagage', 'partly', 'Old', 'troubles', 'certificate', 'notimpressed', 'reminding', 'expiring', 'June', 'Usually', 'Express', 'ps', 'enjoyable', 'Ticket', 'everybody', 'Although', 'slight', 'turning', 'ref', 'recording', 'repeat', 'lying', 'contd', 'shoulder', 'specific', 'lavatory', 'functioning', 'menus', 'Changing', 'Winners', 'Losers', 'wave', 'warmth', 'prompt', 'sentiment', 'login', 'expire', 'naming', 'unhappytraveler', 'regional', 'friendliest', 'Tokyo', 'motel', 'played', 'LO', 'pile', 'cream', 'jets', 'accurate', 'standbye', 'potential', 'Free', 'darn', 'KN', 'patiently', 'clarifying', 'companion', 'necessary', 'Whoever', 'chocate', 'thousand', 'fans', 'Bummer', 'arrange', 'PBI', 'stow', 'costing', 'father', 'kit', 'PNR', 'waitlisted', 'Jim', 'Jeff', 'Smisek', 'FLT', 'lifetime', 'wind', 'chill', 'burn', 'Aw', 'words', 'Totally', 'Frontier', 'exceptions', 'misplaced', 'former', 'FO', 'Ran', 'Luardia', 'tray', 'table', 'size', 'mouse', 'ticked', 'Epiail', 'airbus', 'rubber', 'issuing', 'suggestions', 'box', 'haha', 'hangar', 'Sounds', 'rented', 'donation', 'Thanou', 'WTH', 'everytime', 'hungry', 'PRIORITY', 'Learned', 'lesson', 'Pax', 'woke', 'ended', 'jam', 'maint', 'FULL', 'spite', 'Janet', 'believing', 'papers', 'galley', 'Charlotte', 'alternatives', 'practice', 'Keeping', 'alive', 'craft', 'nocustomerservice', 'Came', 'biggest', 'fantastic', 'Except', 'entry', 'unsympathetic', 'facebook', 'Jelue', 'SW', 'miami', 'Annual', 'SOBEWFF', 'exchange', 'cont', 'lights', 'stepping', 'dial', 'tablet', 'queues', 'accordingly', 'Trust', 'swapping', 'ONT', 'continued', 'Lousy', 'dying', 'shameful', 'dissatisfaction', 'Yup', 'courteous', 'understood', 'duty', 'die', 'uncaring', 'inexcusable', 'driver', 'rapid', 'flow', 'pro', 'fave', 'betting', 'Den', 'shots', 'opened', 'settle', 'Perth', 'dest', 'straight', 'anniversary', 'nxt', 'responsible', 'Learn', 'Problemss', 'evry', 'dpt', 'average', 'alert', 'compensated', 'Set', 'expedited', 'NC', 'buffalo', 'progress', 'estimate', 'KP', 'refundable', 'GAs', 'cleared', 'MHT', 'Update', 'Ur', 'Visa', 'SERVICE', 'Denied', 'praying', 'hide', 'Res', 'embarrassing', 'sept', 'usa', 'ripoff', 'prepared', 'DELAYED', 'privileges', 'WHAT', 'Makes', 'oversold', 'cloud', 'None', 'silence', 'Bought', 'magic', 'nasty', 'Stars', 'confused', 'directed', 'DELAYS', 'thick', 'Admiral', 'Filled', 'experiencing', 'downgrade', 'considered', 'Sitting', 'Wish', 'slower', 'customerservicefail', 'dfw', 'heavy', 'BACK', 'Yall', 'capable', 'incoming', 'Frustrating', 'systems', 'stick', 'survey', 'Fair', 'rant', 'promise', 'moon', 'Puerto', 'Rico', 'Argentina', 'Woo', 'close', 'alot', 'complaining', 'smiling', 'Save', 'pet', 'downgrading', 'selections', 'East', 'West', 'Four', 'fr', 'entering', 'typo', 'admit', 'boss', 'menu', 'pleasantly', 'replied', 'Rude', 'grouchy', 'nap', 'Thats', 'Oregon', 'supposedly', 'reminds', 'desks', 'waivers', 'forgetting', 'incorrect', 'tweeting', 'ignoring', 'awake', 'Paying', 'east', 'coast', 'storms', 'ANOTHER', 'logging', 'Antigua', 'prem', 'review', 'shipped', 'ph', 'whether', 'rear', 'wrote', 'nothanks', 'promptly', 'Death', 'Police', 'crash', 'crashes', 'abused', 'lower', 'suggested', 'inquire', 'ailing', 'parent', 'custserv', 'term', 'owe', 'camera', 'messaged', 'employer', 'FL', 'expedient', 'Hang', 'Pittsburgh', 'Guy', 'lounges', 'tab', 'located', 'shout', 'harder', 'Flew', 'incorrectly', 'estimated', 'dep', 'trick', 'popular', 'THIS', 'YEAR', 'VAN', 'GOGH', 'FANS', 'VISIT', 'EUROPE', 'equally', 'timed', 'relevant', 'toddler', 'fyi', 'Promises', 'angrycustomer', 'JT', 'customs', 'uniform', 'somewhere', 'irritating', 'beating', 'stranger', 'wht', 'appeared', 'err', 'travellers', 'loc', 'Ruth', 'rerouting', 'Punta', 'Cana', 'linked', 'rez', 'stillwaiting', 'rushed', 'handed', 'slip', 'abroad', 'recap', 'overseas', 'goods', 'GJ', 'letter', 'Leave', 'treats', 'specifically', 'fresh', 'registered', 'selection', 'unaware', 'stopping', 'realized', 'grab', 'follows', 'sue', 'jerk', 'hoot', 'accomplished', 'Turkish', 'subpar', 'shortly', 'RIC', 'youre', 'batting', 'reward', 'August', 'clouds', 'RSW', 'boys', 'cancun', 'breach', 'headache', 'corrected', 'procedures', 'counters', 'coworker', 'parents', 'SAME', 'Go', 'dca', 'Sydney', 'pref', 'hardworking', 'Take', 'Fort', 'Worth', 'thirty', 'Customeervice', 'reinstate', 'negative', 'worries', 'cushions', 'Tnx', 'Oscar', 'communications', 'remotely', 'shenanigans', 'invite', 'Fallow', 'activitierevention', 'Programs', 'Health', 'Condoito', 'Famile', 'sticking', 'anchorage', 'protected', 'keeping', 'informed', 'guaranteed', 'Dominican', 'neither', 'math', 'rudest', 'Alright', 'Specifically', 'Travel', 'separate', 'metro', 'understandable', 'Houstoogota', 'scale', 'reported', 'tkts', 'nonexistent', 'began', 'determined', 'par', 'overflowed', 'toilet', 'luxurious', 'explains', 'Tough', 'reads', 'Answer', 'trains', 'beneficial', 'consumers', 'blah', 'Midland', 'em', 'motto', 'Give', 'Fantastic', 'packed', 'en', 'grown', 'tears', 'Hartford', 'yards', 'reduced', 'certificates', 'amateurish', 'mostly', 'cats', 'Forget', 'apparent', 'customerexperience', 'approved', 'dispute', 'cc', 'provider', 'movies', 'increasing', 'communicating', 'scratching', 'chase', 'referral', 'bonus', 'Boeing', 'blown', 'warm', 'shuffle', 'nicest', 'Multiple', 'content', 'screens', 'technology', 'mailing', 'coworkers', 'cert', 'odd', 'storage', 'package', 'bitch', 'Send', 'helpless', 'THANKS', 'knees', 'hoped', 'shades', 'windows', 'wrap', 'saved', 'actions', 'pretend', 'initial', 'comments', 'upgd', 'Ft', 'Lauderdale', 'alerts', 'Nerleans', 'lt', 'LMAO', 'Otherwise', 'died', 'feed', 'ESP', 'precious', 'Montego', 'locked', 'troubleshoot', 'earth', 'Military', 'SMF', 'lowest', 'fortunately', 'volumes', 'accepted', 'forms', 'shoddy', 'Jan', 'Clearly', 'lives', 'stone', 'court', 'hashtag', 'replying', 'ITproblems', 'warnings', 'Coast', 'dear', 'IT', 'previously', 'associated', 'Checking', 'Vacation', 'priced', 'honored', 'hits', 'Since', 'fields', 'Expected', 'msp', 'flashlight', 'equal', 'dang', 'payed', 'headaches', 'neighbors', 'smoking', 'Contact', 'federal', 'passing', 'fella', 'pacific', 'yup', 'presented', 'clubs', 'icy', 'magazine', 'yelled', 'Put', 'Their', 'humiliating', 'serves', 'benefit', 'internal', 'Fam', 'bringing', 'Bourbon', 'ft', 'bold', 'dining', 'holding', 'flyunited', 'Hours', 'greatservice', 'hometown', 'Savhiagonals', 'Excellent', 'RNO', 'staying', 'guests', 'Refused', 'apologize', 'moments', 'Things', 'Useless', 'satisfaction', 'Unbelievable', 'hypocrisy', 'memphis', 'Landed', 'India', 'nexus', 'replaced', 'cheated', 'rudeness', 'indeed', 'Supervisor', 'captive', 'Jane', 'Disgusted', 'OUT', 'convinced', 'bf', 'highlight', 'Nexus', 'Serious', 'theres', 'qualifies', 'input', 'Yesterday', 'Paid', 'thousands', 'disappear', 'Heading', 'surrounding', 'ashamed', 'Incoming', 'gents', 'technically', 'decency', 'rewards', 'fiancé', 'Rock', 'speedy', 'figured', 'simply', 'debating', 'Despite', 'protect', 'holy', 'MAJOR', 'philly', 'OC', 'everywhere', 'asks', 'Those', 'offers', 'Yay', 'entirely', 'ferry', 'wandered', 'Pathetic', 'luckily', 'refunds', 'success', 'honoring', 'Media', 'assignments', 'boat', 'pointing', 'distance', 'functionality', 'bizarre', 'outage', 'pricing', 'bandwidth', 'hubs', 'outdated', 'thankful', 'dime', 'kid', 'Confirmation', 'delight', 'ups', 'Durango', 'hitting', 'improvements', 'Step', 'Charge', 'survive', 'Fly', 'Home', 'remind', 'shoulders', 'cld', 'disorganized', 'stays', 'Sigh', 'HAPPY', 'swag', 'proactive', 'incl', 'overheard', 'Power', 'Insufficient', 'dropping', 'greater', 'btwn', 'Broken', 'hopeless', 'Apple', 'Live', 'Connect', 'nicer', 'wanting', 'phx', 'teaching', 'research', 'budget', 'loooooong', 'prev', 'pregnant', 'Price', 'meantime', 'Work', 'Jacksonville', 'drove', 'Spent', 'processing', 'Laguardia', 'World', 'bestflightever', 'FFL', 'Hell', 'Boarded', 'de', 'perfectly', 'Taylor', 'vacay', 'expiration', 'Birmingham', 'packages', 'magically', 'Brutal', 'Rewards', 'puerto', 'Vallarta', 'south', 'west', 'honey', 'checks', 'midway', 'length', 'SWA', 'finger', 'tourists', 'runs', 'promotion', 'Error', 'France', 'Carol', 'Mother', 'Alist', 'IVR', 'proceed', 'ANAmarketers', 'INSANE', 'RR', 'data', 'science', 'worstcustomerservice', 'largest', 'southwestairlines', 'delayancelled', 'List', 'Vineyard', 'entrance', 'affordable', 'Charleston', 'Data', 'throughout', 'shifts', 'Anything', 'tip', 'heart', 'commercials', 'receipts', 'Appears', 'CB', 'Filed', 'Received', 'nephew', 'Lindsey', 'clever', 'badpolicy', 'allows', 'principle', 'Uncool', 'larger', 'gear', 'partnerships', 'nonprofit', 'husbands', 'filmjobnoequipment', 'MDW', 'discounts', 'donate', 'CUN', 'Black', 'History', 'Months', 'Corp', 'Future', 'peanut', 'allergy', 'combination', 'texting', 'rule', 'Dont', 'IF', 'fell', 'AT', 'AIRPORT', 'Ann', 'Phx', 'rocks', 'Destinatioragons', 'winners', 'Ready', 'temp', 'voice', 'sass', 'Internet', 'capacity', 'PHX', 'Wheels', 'professionals', 'FAN', 'unreliable', 'closes', 'Fall', 'Apply', 'honesty', 'feature', 'Increase', 'bae', 'contest', 'entertain', 'strip', 'proving', 'scavenger', 'hunt', 'injury', 'Prheck', 'profile', 'locals', 'parking', 'Luv', 'prioritize', 'streaming', 'sites', 'Feeling', 'WIFI', 'apologizing', 'personally', 'waits', 'Terry', 'hero', 'cellphone', 'dice', 'signal', 'hooking', 'grateful', 'reflect', 'EST', 'Midway', 'yeah', 'Completely', 'weatherrate', 'stops', 'hopeful', 'intercom', 'integration', 'station', 'chg', 'rudely', 'flgt', 'purchaseerroNVALIDLOYALTYMEMBERACCOUNTSTATUS', 'Antonio', 'scene', 'dnt', 'sld', 'noon', 'unveils', 'Ohio', 'Reagan', 'Orangounty', 'Columbus', 'OH', 'Oakland', 'spam', 'Fri', 'equip', 'linking', 'pleaseeee', 'tuesday', 'fron', 'march', 'allergic', 'ignores', 'oil', 'heavily', 'interaction', 'interest', 'series', 'websites', 'mission', 'Bos', 'arrangements', 'Me', 'Arizona', 'Noappy', 'triple', 'enroute', 'soaking', 'Scavenger', 'Hunt', 'READY', 'httptcogkaw', 'existence', 'passive', 'rethinking', 'stroller', 'Calling', 'Preferred', 'workaround', 'fired', 'robot', 'conversation', 'knowledge', 'athletes', 'athlete', 'Companion', 'Tue', 'Epic', 'offices', 'alt', 'signs', 'Actions', 'credited', 'inconsistent', 'mates', 'Huntsville', 'CA', 'Shannon', 'miracle', 'canx', 'md', 'lit', 'carpet', 'tx', 'Guys', 'Anniversary', 'Aruba', 'discontinued', 'CP', 'Rearpet', 'Pass', 'bwi', 'Memorial', 'Day', 'aka', 'combined', 'amazed', 'subscribe', 'sale', 'FOUR', 'telephone', 'slowing', 'ring', 'band', 'Neither', 'homeless', 'unpleasant', 'sometimes', 'color', 'props', 'opposed', 'chaotic', 'compassion', 'project', 'loves', 'Mad', 'lucky', 'smashed', 'zoom', 'elderly', 'msgs', 'gent', 'FIND', 'WAY', 'officer', 'Promotion', 'Jamaica', 'loss', 'Imagine', 'Dragons', 'nolove', 'tear', 'soaked', 'cali', 'comped', 'justsaying', 'Arkansas', 'discrimination', 'boycott', 'harbor', 'conflicting', 'Outrageous', 'specials', 'Daytona', 'MKE', 'Hire', 'battery', 'Rep', 'holds', 'tsa', 'impression', 'Running', 'swa', 'goin', 'asshole', 'photos', 'suitcases', 'Hour', 'holdup', 'professional', 'OUTSTANDING', 'AZ', 'Omaha', 'TUESDAY', 'Refund', 'Baltimore', 'laughing', 'Valentines', 'diabetic', 'Gonna', 'greenville', 'USAir', 'male', 'Indy', 'SEATAC', 'Photography', 'November', 'grabbed', 'northeast', 'maiden', 'balance', 'coupons', 'trees', 'KIDDING', 'Spirit', 'MCOgMH', 'Voucher', 'wld', 'cup', 'relax', 'Promotions', 'Avon', 'Doug', 'concert', 'restroom', 'sanitizer', 'Cmon', 'AH', 'El', 'Paso', 'coordinate', 'Blacistoronth', 'musician', 'recruiting', 'Spring', 'opening', 'nashville', 'TX', 'loose', 'letdown', 'servicing', 'Early', 'KC', 'nights', 'hv', 'spoken', 'Decided', 'cx', 'wounded', 'particular', 'Travelers', 'Oops', 'heck', 'sunny', 'ticketing', 'unorganized', 'Mass', 'craziness', 'Half', 'stations', 'skip', 'fl', 'nyc', 'corner', 'Online', 'pleasehelp', 'HOU', 'express', 'portion', 'Holding', 'opinion', 'colleague', 'Anyway', 'insist', 'trvl', 'english', 'Indianapolis', 'mouth', 'FREE', 'Incredible', 'disrespectful', 'learned', 'Travelling', 'LOST', 'Kay', 'Saw', 'Tix', 'que', 'Plz', 'complicated', 'Winteeather', 'invited', 'cockpit', 'massive', 'resched', 'tmw', 'backroads', 'SDF', 'Show', 'competitors', 'SOP', 'batteries', 'fort', 'waitin', 'Baervice', 'Being', 'Suggestions', 'cxld', 'jumped', 'gun', 'Louisville', 'Sally', 'horror', 'handing', 'sleet', 'Sun', 'sanitized', 'blue', 'vote', 'Passengers', 'Buffalo', 'Gotta', 'condition', 'divert', 'Open', 'purely', 'lunch', 'Screw', 'Destination', 'inclement', 'Feels', 'horse', 'receiving', 'wednesday', 'GO', 'VEGAS', 'SHOW', 'MAN', 'intend', 'students', 'graduate', 'bless', 'soul', 'range', 'Gary', 'Kelly', 'rip', 'beware', 'Credit', 'Attendant', 'ACCESS', 'rn', 'arrivals', 'Northeast', 'IM', 'Jacquie', 'Plitt', 'CABO', 'Happily', 'stupid', 'stories', 'WAIT', 'summer', 'labor', 'cash', 'Tonight', 'destinationdragons', 'acknowledgement', 'bestairlineever', 'unhappycustomer', 'refer', 'printed', 'Lucky', 'draws', 'crowd', 'Partnership', 'laws', 'Utah', 'fall', 'mi', 'Spend', 'machine', 'steal', 'Empty', 'Srsly', 'accommodating', 'enforcing', 'gosh', 'GOING', 'forfeited', 'Amex', 'ISP', 'happiness', 'responsive', 'tarmack', 'selfie', 'Cold', 'Blue', 'Gracias', 'Provo', 'Crossed', 'TICKETS', 'BAD', 'ANYTHING', 'dragons', 'WOULD', 'accommodated', 'memo', 'buttons', 'atlanta', 'vaca', 'invalid', 'Android', 'lined', 'cattle', 'Jason', 'EB', 'nearby', 'trained', 'perform', 'gng', 'wheelsup', 'execution', 'weekends', 'Carolina', 'nvm', 'rescue', 'rid', 'Aug', 'Sept', 'Support', 'bathrooms', 'fairly', 'became', 'setting', 'Southwesally', 'bestemployees', 'swaculture', 'gmail', 'Paypal', 'addressing', 'OAK', 'HRL', 'singing', 'videos', 'PA', 'noticed', 'reviewing', 'oversize', 'instruments', 'rocking', 'PWM', 'forgotten', 'protocol', 'suggestion', 'JOKE', 'goto', 'AList', 'HUGE', 'Scott', 'bottom', 'park', 'malfunctioning', 'Report', 'Info', 'bestairline', 'Bird', 'childish', 'Mail', 'RUDE', 'sw', 'kiosks', 'yearly', 'Congratulations', 'raving', 'glitches', 'Social', 'Listening', 'Ragaisney', 'GONE', 'UTAH', 'wmy', 'Harbor', 'Willing', 'Reward', 'recovery', 'intelligent', 'path', 'myers', 'aww', 'wknd', 'logo', 'airplanes', 'college', 'thaw', 'Kinda', 'CO', 'kicking', 'understands', 'aside', 'gracias', 'guest', 'NEED', 'physically', 'TIME', 'misleading', 'Savannah', 'GA', 'inbox', 'filing', 'monthly', 'eligible', 'CHIMID', 'woohoo', 'YO', 'Whoa', 'Working', 'specifics', 'anticipate', 'places', 'saturday', 'personalized', 'snapchat', 'ONE', 'postcode', 'Ireland', 'Pre', 'giant', 'require', 'stewardesses', 'sing', 'LAUREN', 'GOD', 'AHHHH', 'Hard', 'HAHA', 'Times', 'expedite', 'Worried', 'PAID', 'NH', 'SWADiversity', 'announcing', 'celebrating', 'lemme', 'university', 'books', 'craving', 'yay', 'Deal', 'jackass', 'Hmmm', 'Caribbean', 'Apology', 'laugh', 'Costa', 'Rica', 'sooo', 'hidden', 'gain', 'forecasted', 'display', 'Thought', 'TWO', 'behavior', 'letters', 'babies', 'cried', 'Tired', 'Thus', 'displeased', 'unlike', 'Re', 'winner', 'fll', 'Amazon', 'Game', 'plug', 'tryin', 'bike', 'SMH', 'Official', 'film', 'txt', 'emp', 'wide', 'reddit', 'People', 'communicated', 'covered', 'According', 'test', 'IMO', 'BAGS', 'rocked', 'aus', 'Drove', 'pieces', 'evaluate', 'Bullshit', 'Disney', 'DONT', 'swamped', 'dealt', 'Fastest', 'involved', 'slc', 'regular', 'DSM', 'separately', 'store', 'runways', 'spilled', 'grades', 'Nature', 'create', 'TUL', 'bummed', 'caller', 'unspecified', 'Heard', 'guidance', 'Buf', 'Oct', 'attitudes', 'imma', 'Ya', 'national', 'Integration', 'Valentine', 'snowing', 'hournot', 'insight', 'LAXgFK', 'chart', 'PAX', 'alleviate', 'modifications', 'Beautiful', 'hangup', 'NOTHING', 'inability', 'GEG', 'Nevegain', 'SJU', 'staffing', 'George', 'ive', 'formula', 'Area', 'fleek', 'JB', 'Trulue', 'Plat', 'Beach', 'Headed', 'flyfi', 'partnership', 'snack', 'jetbluesofly', 'BTV', 'Advantage', 'Vieques', 'Question', 'transportation', 'deplorable', 'trueblue', 'JBLU', 'Westchester', 'County', 'pooling', 'setup', 'join', 'Twice', 'pwm', 'redirect', 'stole', 'discovered', 'stealing', 'SYR', 'LUGGAGE', 'GET', 'companies', 'madness', 'comfortably', 'infants', 'THAT', 'establish', 'possibility', 'thy', 'SC', 'redemption', 'Cuba', 'Btw', 'Works', 'deny', 'um', 'Gotcha', 'Enjoy', 'rely', 'MEM', 'appease', 'Wall', 'Street', 'chips', 'battles', 'Waterbury', 'Republican', 'staring', 'blank', 'rectified', 'Noooo', 'Indeed', 'System', 'Nassau', 'fustrated', 'lord', 'Jeae', 'duh', 'community', 'managers', 'Awww', 'Xx', 'lmao', 'Nah', 'tweeter', 'Mint', 'reconsidering', 'woof', 'Haha', 'chairs', 'debit', 'Auto', 'sudden', 'Nantucket', 'Mark', 'glass', 'strollers', 'EMS', 'environment', 'surely', 'Joanna', 'Departure', 'Hence', 'opposite', 'Robert', 'Mosaic', 'attended', 'pure', 'Tim', 'Cali', 'idk', 'Fli', 'mint', 'odds', 'specified', 'selfies', 'measured', 'Ricoh', 'maimi', 'backup', 'Goodwill', 'Fine', 'EMV', 'testing', 'younger', 'mosaic', 'WEEK', 'terms', 'geeks', 'Considering', 'MUST', 'reactions', 'Scheduled', 'dissapointed', 'BQN', 'forecast', 'costumers', 'disorganization', 'SJ', 'serv', 'Space', 'Tx', 'essentially', 'nd', 'apologizes', 'Wrong', 'DONE', 'untz', 'jetbluefail', 'north', 'criminal', 'resulting', 'Third', 'Syracuse', 'pics', 'bluecarpet', 'Hayes', 'perspective', 'expressed', 'Hawaiian', 'Jetblue', 'PEOPLE', 'goodwill', 'Yea', 'justify', 'SRQ', 'brandmance', 'Tv', 'Figure', 'Newburgh', 'yest', 'inform', 'alcohol', 'HPN', 'Several', 'league', 'Using', 'gorgeous', 'beach', 'Jeluocks', 'gracious', 'autoresponse', 'lil', 'ideal', 'Top', 'direction', 'woulda', 'circle', 'upstate', 'Branovffair', 'Issue', 'kill', 'nine', 'america', 'scheme', 'protection', 'Int', 'followup', 'Yep', 'bumper', 'airways', 'controllers', 'GOOD', 'minimum', 'Earlier', 'LET', 'MAKE', 'FUN', 'rum', 'coke', 'havent', 'Unprofessional', 'Emergency', 'release', 'flite', 'praise', 'CHS', 'lead', 'Party', 'Charles', 'glasses', 'annual', 'mercy', 'seeks', 'Journal', 'pig', 'SXM', 'predicted', 'warmer', 'folding', 'sons', 'Add', 'regularly', 'asleep', 'CARE', 'jumping', 'Needs', 'Revenue', 'flyingitforward', 'hug', 'CUSTOMER', 'marathon', 'Fliers', 'Gain', 'Access', 'WSJ', 'Content', 'Nasdaq', 'Haiti', 'Id', 'Dakota', 'Financial', 'News', 'Lowered', 'Vetr', 'Inc', 'waiver', 'beverages', 'Bluemanity', 'Coralues', 'Passion', 'Aeroarket', 'nigga', 'Mideast', 'Define', 'Ping', 'likelihood', 'birth', 'decide', 'loosing', 'Inflight', 'Corporation', 'MT', 'NASDAQJBLU', 'High', 'chaos', 'reality', 'Dare', 'burger', 'diverting', 'Ah', 'Lucia', 'Joe', 'van', 'MVP', 'sunshine', 'escape', 'random', 'Lovonriday', 'trading', 'lay', 'smart', 'Offer', 'Ilight', 'Digital', 'div', 'Dre', 'classes', 'Bring', 'brandloveaffair', 'taxiing', 'Admirals', 'slide', 'Truluove', 'Hits', 'sleekmoney', 'wyou', 'flyitforward', 'TB', 'Lines', 'crewmember', 'Felt', 'insult', 'seven', 'sounded', 'Frustrated', 'Summer', 'Broadway', 'ardent', 'Poughkeepsie', 'WKRB', 'schedules', 'Havana', 'photography', 'pictures', 'slowest', 'scenario', 'starts', 'carsl', 'HR', 'Back', 'jetblulues', 'livery', 'capture', 'Island', 'Angel', 'BLUE', 'patronizing', 'lovejetblue', 'bottles', 'hopes', 'AL', 'anxious', 'heated', 'disappoints', 'qualify', 'pages', 'ruins', 'doke', 'fraud', 'physical', 'telephones', 'Capital', 'marked', 'choices', 'rifle', 'transferable', 'convo', 'buyer', 'sea', 'vacations', 'diversions', 'Brazil', 'dissatisfied', 'Livery', 'Jetbae', 'comm', 'attendees', 'significant', 'birds', 'fed', 'Statement', 'Incentive', 'youth', 'Florward', 'allergies', 'bottle', 'sand', 'palm', 'Carousel', 'DCABOS', 'skytrax', 'nvr', 'sch', 'dads', 'Italy', 'relatives', 'ATH', 'postpone', 'Mr', 'Marie', 'Flyinorward', 'relief', 'Short', 'Interest', 'True', 'serving', 'applicable', 'Sees', 'Significant', 'Truly', 'FANTASTIC', 'engaging', 'badge', 'Dude', 'sensitive', 'gladly', 'NOLA', 'greatest', 'Susan', 'Charter', 'armrest', 'hotter', 'Celebrates', 'Brand', 'exists', 'paint', 'Battles', 'Appease', 'Anywhere', 'robbed', 'awe', 'brushing', 'Orbitz', 'Know', 'shoutout', 'Alaska', 'Kate', 'delicious', 'Email', 'participate', 'accused', 'warehouse', 'mon', 'becomes', 'targeting', 'safetyfirst', 'delivering', 'Request', 'backpack', 'crewmembers', 'Kid', 'profits', 'MORE', 'La', 'anybody', 'style', 'rings', 'Aww', 'Cant', 'oui', 'generated', 'painted', 'Navy', 'meaning', 'NA', 'asset', 'JVMChat', 'realtime', 'Review', 'getittogether', 'weighs', 'registration', 'Fortunately', 'Lynn', 'Deee', 'NICE', 'Richard', 'Sadly', 'Iowa', 'AIRWAYS', 'USAIR', 'diamond', 'challenging', 'finish', 'pump', 'sympathy', 'breast', 'referred', 'impressions', 'reverse', 'dividend', 'chairman', 'clt', 'endless', 'spelling', 'HELLO', 'National', 'gas', 'USAirways', 'HOLD', 'employ', 'Mechanical', 'flaw', 'insanity', 'Chairman', 'citizen', 'flexibility', 'flexible', 'Excuses', 'utterly', 'picks', 'hub', 'coverage', 'CAN', 'BY', 'shortcomings', 'agency', 'wrongfully', 'Dividend', 'frustrations', 'bougth', 'usairways', 'basket', 'transf', 'Dividenewards', 'Divideniles', 'cardholder', 'established', 'Bumped', 'Flightaware', 'Mitchell', 'argue', 'unmonitored', 'argued', 'Exec', 'plat', 'Attendants', 'Rachel', 'detailed', 'airway', 'FOUND', 'Standby', 'Single', 'ABLE', 'LAYOVER', 'chairmans', 'CTL', 'flydelta', 'force', 'shock', 'Derrick', 'Bussey', 'misunderstood', 'women', 'shaking', 'balls', 'checkout', 'backs', 'EYW', 'Kim', 'Unhelpful', 'jealous', 'Look', 'MEL', 'sticker', 'endlessly', 'Gatwick', 'publicity', 'cargo', 'Understand', 'ff', 'inconvenienced', 'involve', 'lists', 'Onorld', 'plot', 'aa', 'admirals', 'VM', 'proactively', 'chosen', 'identical', 'delayeancelled', 'bora', 'Finnair', 'mia', 'Cincy', 'merging', 'wth', 'restrictions', 'NEEDED', 'affecting', 'gloves', 'Drive', 'elaborate', 'wannagohome', 'differently', 'firstclass', 'FOLLOW', 'Gainesville', 'DOWN', 'PST', 'Russia', 'Patrick', 'likes', 'inconsiderate', 'flightno', 'cvg', 'merged', 'managing', 'offload', 'sauce', 'onholdwith', 'Gave', 'poorplanning', 'AWFUL', 'transported', 'Interesting', 'compliments', 'GoinoreatnesAIL', 'drunks', 'abysmal', 'disconnects', 'raleigh', 'lexington', 'brokenpromises', 'ELM', 'grounds', 'Smh', 'locating', 'Sabre', 'winterstorm', 'gso', 'shameonyou', 'preventing', 'breath', 'BGR', 'behave', 'realistic', 'baggages', 'unload', 'KPHL', 'Phil', 'nocrew', 'housing', 'FAs', 'lodging', 'st', 'FLIGHTS', 'EXTREMELY', 'rivets', 'fear', 'overhaul', 'usair', 'AAdvantage', 'quit', 'Round', 'brush', 'brutal', 'fm', 'sigh', 'contingency', 'assholes', 'aggravating', 'overwhelming', 'unusual', 'reaccommodation', 'colleagues', 'usairsucks', 'pops', 'dozens', 'ANSWER', 'PHONE', 'selling', 'tom', 'exercise', 'miserably', 'cots', 'onhold', 'gifts', 'agt', 'Family', 'LITERALLY', 'processes', 'midght', 'XNA', 'Des', 'Moines', 'Husband', 'crackers', 'abandoned', 'Teach', 'followers', 'Emerald', 'Talk', 'faulty', 'Coming', 'sys', 'cherry', 'srvc', 'Flelta', 'hve', 'flght', 'dividends', 'recorded', 'key', 'horriblecustomerservice', 'joined', 'diversion', 'callers', 'Detter', 'Tamara', 'Eagle', 'chose', 'Failing', 'delayedconnection', 'dedicated', 'represent', 'Sean', 'quarter', 'Least', 'MC', 'prepare', 'wasteoftime', 'lawsuit', 'CR', 'Fl', 'Jeanine', 'fresno', 'pittsburgh', 'jammed', 'Throwing', 'prepurchase', 'yousuck', 'CHO', 'fastest', 'Miam', 'bout', 'appreciates', 'opportunities', 'State', 'grace', 'bttr', 'Bloody', 'comms', 'crowded', 'Weds', 'Flightedflight', 'Yvonne', 'burning', 'Manch', 'gsp', 'Choice', 'nicedismissive', 'Thks', 'worstflight', 'Able', 'faithful', 'Absolutely', 'embarrassment', 'usairwayssucks', 'STRANDED', 'occupied', 'baggagelost', 'Dept', 'FUK', 'meds', 'csr', 'httptcoetfjvt', 'inferior', 'cocktail', 'Masteard', 'Yuma', 'exec', 'Reminder', 'DL', 'Frozen', 'accts', 'Part', 'Roberto', 'eveate', 'yell', 'amateur', 'Myrtle', 'transactions', 'bush', 'prompts', 'desired', 'pity', 'ignorant', 'vile', 'blizzard', 'FRUSTRATED', 'occasions', 'upsetting', 'Wondering', 'locator', 'Starving', 'REAL', 'SPF', 'itin', 'secret', 'provides', 'logistics', 'disruptions', 'leads', 'fate', 'shld', 'billing', 'cycles', 'Eh', 'Member', 'waivethefee', 'Neptune', 'Couldnt', 'notmyfault', 'deadhead', 'versus', 'Lets', 'neptune', 'Joke', 'gray', 'closing', 'Fabulous', 'hat', 'HSV', 'Oy', 'SM', 'perks', 'senseless', 'reactivate', 'casimir', 'Believe', 'unwilling', 'rotten', 'nocareforcustomers', 'Mold', 'filthyplane', 'hopeidonotgetsick', 'Aeek', 'slapintheface', 'frustratingit', 'nexttimeiwillflysouthwest', 'TPADFWLAX', 'GRK', 'LEX', 'XT', 'prolonged', 'prds', 'ohio', 'dallas', 'httptcNMsblzumr', 'Chef', 'Miguel', 'Allende', 'Followed', 'horriblewent', 'ampwait', 'minsampput', 'hunguOHELP', 'cot', 'Andrew', 'SMA', 'rollercoaster', 'messing', 'yesso', 'guysfor', 'Killeen', 'wcustomer', 'droped', 'rwrd', 'AAno', 'AAdv', 'narrowly', 'standbylots', 'snags', 'choppiest', 'Whiplash', 'americanairlinesfail', 'iwantmymoneyback', 'reversed', 'bereavement', 'TRUSTGET', 'oou', 'stuckinmemphis', 'texasisclosed', 'Here', 'httptcMURZU', 'faves', 'sju', 'thenewamerican', 'Sheesh', 'Alex', 'Espinosa', 'crated', 'wouldbe', 'pets', 'painfully', 'inexperienced', 'paged', 'spaced', 'biggie', 'Spagnuolo', 'coached', 'Rams', 'whammie', 'robocalls', 'onplane', 'gems', 'origindestinationdates', 'ORDPVG', 'arbitrary', 'Pafe', 'AADFW', 'GMA', 'AMso', 'trove', 'gogo', 'boatstyle', 'swivel', 'dietcoke', 'happyflier', 'rampers', 'marshaled', 'retired', 'resoled', 'Kax', 'Exelat', 'grievance', 'rno', 'beanie', 'rdu', 'sexual', 'assult', 'Woohoo', 'diapers', 'manners', 'FYIcall', 'stilling', 'dialing', 'Attempted', 'obscene', 'acquisition', 'youyou', 'nitrogen', 'fligt', 'Barbados', 'COOL', 'Wichita', 'Falls', 'BA', 'MCE', 'advisories', 'Hub', 'YESTERDAY', 'mci', 'SAT', 'TYR', 'outta', 'bot', 'EXPERIENCE', 'platitudes', 'Embassy', 'Suites', 'Herndon', 'tcf', 'abilities', 'noone', 'HIS', 'corp', 'swear', 'AUH', 'dialogue', 'worstcustomerserviceever', 'EP', 'Impossible', 'filmcrew', 'veers', 'clueless', 'react', 'gunna', 'Ohare', 'SWU', 'aafail', 'loop', 'fourth', 'Aiort', 'Lima', 'btr', 'Envoy', 'wudda', 'ktn', 'Americaiew', 'cnn', 'nbc', 'Pounds', 'Meelan', 'oneworld', 'chnge', 'PN', 'deflator', 'Chapter', 'AMM', 'Shawn', 'LAN', 'lacked', 'ho', 'revs', 'xx', 'MXPJFK', 'Goinoreat', 'goodbye', 'shortage', 'evoucher', 'americanairlines', 'americanair', 'ENTIRE', 'dmed', 'numerical', 'Relations', 'automatic', 'pit', 'oaaret', 'witnessed', 'tisk', 'alternative', 'Parker', 'CHECK', 'mtg', 'westjet', 'shirt', 'th', 'Losing', 'EXP', 'arent', 'CLL', 'sample', 'txfd', 'centre', 'ticks', 'mentions', 'sizer', 'breeze', 'Cincinnati', 'Circle', 'billions', 'understaffing', 'taste', 'badmgmt', 'hoops', 'toledo', 'refsd', 'DALLAS', 'Deane', 'Norma', 'Sedholm', 'MONDAY', 'FAT', 'neglected', 'Understaffing']\n"
          ]
        }
      ]
    },
    {
      "cell_type": "code",
      "source": [
        "def save_list(lines, filename):\n",
        "  # convert lines to a single blob of text\n",
        "  data = '\\n'.join(lines)\n",
        "  # open file\n",
        "  file = open(filename, 'w')\n",
        "  # write text\n",
        "  file.write(data)\n",
        "  # close file\n",
        "  file.close()\n",
        "\n",
        "# load doc into memory\n",
        "def load_doc(filename):\n",
        "  # open the file as read only\n",
        "  file = open(filename, 'r')\n",
        "  # read all text\n",
        "  text = file.read()\n",
        "  # close the file\n",
        "  file.close()\n",
        "  return text"
      ],
      "metadata": {
        "id": "VzS-dV5C75QQ"
      },
      "execution_count": null,
      "outputs": []
    },
    {
      "cell_type": "code",
      "source": [
        "vocab_filename = 'vocab.txt'\n",
        "# save tokens to a vocabulary file\n",
        "save_list(tokens, vocab_filename)"
      ],
      "metadata": {
        "id": "bcvqETs075Tc"
      },
      "execution_count": null,
      "outputs": []
    },
    {
      "cell_type": "code",
      "source": [
        "# load the vocabulary\n",
        "vocab = load_doc(vocab_filename)\n",
        "vocab = set(vocab.split())\n",
        "len(vocab)"
      ],
      "metadata": {
        "colab": {
          "base_uri": "https://localhost:8080/"
        },
        "id": "J5_Vrk8R75WQ",
        "outputId": "f942c37d-1f11-44a8-a346-e1d174287294"
      },
      "execution_count": null,
      "outputs": [
        {
          "output_type": "execute_result",
          "data": {
            "text/plain": [
              "6560"
            ]
          },
          "metadata": {},
          "execution_count": 15
        }
      ]
    },
    {
      "cell_type": "markdown",
      "source": [
        "# Train CNN with embedding layer"
      ],
      "metadata": {
        "id": "wyyxkgs-GdbR"
      }
    },
    {
      "cell_type": "code",
      "source": [
        "def clean_tweet(text, vocab):\n",
        "  tweet = clean_text(text)\n",
        "  tweet = [w for w in tweet if w in vocab]\n",
        "  return (' ').join(tweet)\n",
        "\n",
        "def process_docs_tweet(data, category, vocab):\n",
        "  tweet_data = [tweet['text'] for tweet in data if tweet['airline_sentiment'] == category]\n",
        "  tweet_data = [clean_tweet(tweet, vocab) for tweet in tweet_data]\n",
        "  return tweet_data\n",
        "\n",
        "def load_clean_tweet(data, vocab):\n",
        "  categories = [\"negative\", \"neutral\", \"positive\"]\n",
        "  neg_tweet = process_docs_tweet(data, categories[0], vocab)\n",
        "  neu_tweet = process_docs_tweet(data, categories[1], vocab)\n",
        "  pos_tweet = process_docs_tweet(data, categories[2], vocab)\n",
        "  docs = neg_tweet + neu_tweet + pos_tweet\n",
        "  labels = array([0 for _ in range(len(neg_tweet))] + [1 for _ in range(len(neu_tweet))] + [2 for _ in range(len(pos_tweet))])\n",
        "  return docs, labels\n",
        "\n",
        "# fit a tokenizer\n",
        "def create_tokenizer(lines):\n",
        "  tokenizer = Tokenizer()\n",
        "  tokenizer.fit_on_texts(lines)\n",
        "  return tokenizer\n",
        "\n",
        "# integer encode and pad documents\n",
        "def encode_docs(tokenizer, max_length, docs):\n",
        "  # integer encode\n",
        "  encoded = tokenizer.texts_to_sequences(docs)\n",
        "  # pad sequences\n",
        "  padded = pad_sequences(encoded, maxlen=max_length, padding='post')\n",
        "  return padded\n",
        "\n",
        "# define the model\n",
        "def define_model(vocab_size, max_length):\n",
        "  model = Sequential()\n",
        "  model.add(Embedding(vocab_size, 100, input_length=max_length))\n",
        "  model.add(Conv1D(filters=32, kernel_size=8, activation='relu'))\n",
        "  model.add(MaxPooling1D(pool_size=2))\n",
        "  model.add(Flatten())\n",
        "  model.add(Dense(10, activation='relu'))\n",
        "  model.add(Dense(3, activation='softmax'))\n",
        "  # compile network\n",
        "  model.compile(loss='categorical_crossentropy', optimizer='adam', metrics=['accuracy'])\n",
        "  # summarize defined model\n",
        "  model.summary()\n",
        "  plot_model(model, to_file='model.png', show_shapes=True)\n",
        "  return model"
      ],
      "metadata": {
        "id": "JQA820hn75cQ"
      },
      "execution_count": null,
      "outputs": []
    },
    {
      "cell_type": "code",
      "source": [
        "data = df.to_dict(orient='records')\n",
        "data = [value for value in data if value['airline_sentiment_confidence'] >= 0.5]\n",
        "train_docs, ytrain = load_clean_tweet(data, vocab)\n",
        "# Convert ytrain to one-hot encoding\n",
        "ytrain = to_categorical(ytrain, num_classes=3)\n",
        "# create the tokenizer\n",
        "tokenizer = create_tokenizer(train_docs)\n",
        "# define vocabulary size\n",
        "vocab_size = len(tokenizer.word_index) + 1\n",
        "print('Vocabulary size: %d' % vocab_size)\n",
        "# calculate the maximum sequence length\n",
        "max_length = max([len(s.split()) for s in train_docs])\n",
        "print('Maximum length: %d' % max_length)\n",
        "# encode data\n",
        "Xtrain = encode_docs(tokenizer, max_length, train_docs)\n",
        "# define model\n",
        "model = define_model(vocab_size, max_length)\n",
        "# fit network\n",
        "model.fit(Xtrain, ytrain, epochs=30, verbose=2)\n",
        "# save the model\n",
        "model.save('model.h5')"
      ],
      "metadata": {
        "colab": {
          "base_uri": "https://localhost:8080/"
        },
        "id": "2YeHoLLp75fF",
        "outputId": "dde791b2-b1ff-4ac9-828e-13d407741ca5"
      },
      "execution_count": null,
      "outputs": [
        {
          "output_type": "stream",
          "name": "stdout",
          "text": [
            "Vocabulary size: 5346\n",
            "Maximum length: 22\n",
            "Model: \"sequential\"\n",
            "_________________________________________________________________\n",
            " Layer (type)                Output Shape              Param #   \n",
            "=================================================================\n",
            " embedding (Embedding)       (None, 22, 100)           534600    \n",
            "                                                                 \n",
            " conv1d (Conv1D)             (None, 15, 32)            25632     \n",
            "                                                                 \n",
            " max_pooling1d (MaxPooling1D  (None, 7, 32)            0         \n",
            " )                                                               \n",
            "                                                                 \n",
            " flatten (Flatten)           (None, 224)               0         \n",
            "                                                                 \n",
            " dense (Dense)               (None, 10)                2250      \n",
            "                                                                 \n",
            " dense_1 (Dense)             (None, 3)                 33        \n",
            "                                                                 \n",
            "=================================================================\n",
            "Total params: 562,515\n",
            "Trainable params: 562,515\n",
            "Non-trainable params: 0\n",
            "_________________________________________________________________\n",
            "Epoch 1/30\n",
            "451/451 - 8s - loss: 0.6796 - accuracy: 0.7070 - 8s/epoch - 18ms/step\n",
            "Epoch 2/30\n",
            "451/451 - 5s - loss: 0.3879 - accuracy: 0.8512 - 5s/epoch - 11ms/step\n",
            "Epoch 3/30\n",
            "451/451 - 6s - loss: 0.2417 - accuracy: 0.9135 - 6s/epoch - 13ms/step\n",
            "Epoch 4/30\n",
            "451/451 - 6s - loss: 0.1439 - accuracy: 0.9527 - 6s/epoch - 13ms/step\n",
            "Epoch 5/30\n",
            "451/451 - 5s - loss: 0.0956 - accuracy: 0.9690 - 5s/epoch - 11ms/step\n",
            "Epoch 6/30\n",
            "451/451 - 7s - loss: 0.0701 - accuracy: 0.9777 - 7s/epoch - 16ms/step\n",
            "Epoch 7/30\n",
            "451/451 - 5s - loss: 0.0559 - accuracy: 0.9821 - 5s/epoch - 11ms/step\n",
            "Epoch 8/30\n",
            "451/451 - 7s - loss: 0.0481 - accuracy: 0.9853 - 7s/epoch - 15ms/step\n",
            "Epoch 9/30\n",
            "451/451 - 6s - loss: 0.0411 - accuracy: 0.9866 - 6s/epoch - 12ms/step\n",
            "Epoch 10/30\n",
            "451/451 - 5s - loss: 0.0371 - accuracy: 0.9881 - 5s/epoch - 12ms/step\n",
            "Epoch 11/30\n",
            "451/451 - 7s - loss: 0.0352 - accuracy: 0.9883 - 7s/epoch - 15ms/step\n",
            "Epoch 12/30\n",
            "451/451 - 6s - loss: 0.0338 - accuracy: 0.9881 - 6s/epoch - 13ms/step\n",
            "Epoch 13/30\n",
            "451/451 - 7s - loss: 0.0315 - accuracy: 0.9885 - 7s/epoch - 15ms/step\n",
            "Epoch 14/30\n",
            "451/451 - 5s - loss: 0.0312 - accuracy: 0.9888 - 5s/epoch - 12ms/step\n",
            "Epoch 15/30\n",
            "451/451 - 6s - loss: 0.0302 - accuracy: 0.9890 - 6s/epoch - 13ms/step\n",
            "Epoch 16/30\n",
            "451/451 - 6s - loss: 0.0302 - accuracy: 0.9891 - 6s/epoch - 13ms/step\n",
            "Epoch 17/30\n",
            "451/451 - 5s - loss: 0.0322 - accuracy: 0.9876 - 5s/epoch - 12ms/step\n",
            "Epoch 18/30\n",
            "451/451 - 7s - loss: 0.0287 - accuracy: 0.9890 - 7s/epoch - 15ms/step\n",
            "Epoch 19/30\n",
            "451/451 - 6s - loss: 0.0247 - accuracy: 0.9901 - 6s/epoch - 12ms/step\n",
            "Epoch 20/30\n",
            "451/451 - 7s - loss: 0.0242 - accuracy: 0.9901 - 7s/epoch - 16ms/step\n",
            "Epoch 21/30\n",
            "451/451 - 5s - loss: 0.0239 - accuracy: 0.9903 - 5s/epoch - 12ms/step\n",
            "Epoch 22/30\n",
            "451/451 - 5s - loss: 0.0233 - accuracy: 0.9906 - 5s/epoch - 12ms/step\n",
            "Epoch 23/30\n",
            "451/451 - 6s - loss: 0.0231 - accuracy: 0.9906 - 6s/epoch - 14ms/step\n",
            "Epoch 24/30\n",
            "451/451 - 5s - loss: 0.0241 - accuracy: 0.9901 - 5s/epoch - 11ms/step\n",
            "Epoch 25/30\n",
            "451/451 - 7s - loss: 0.0219 - accuracy: 0.9908 - 7s/epoch - 15ms/step\n",
            "Epoch 26/30\n",
            "451/451 - 5s - loss: 0.0236 - accuracy: 0.9902 - 5s/epoch - 11ms/step\n",
            "Epoch 27/30\n",
            "451/451 - 5s - loss: 0.0254 - accuracy: 0.9895 - 5s/epoch - 12ms/step\n",
            "Epoch 28/30\n",
            "451/451 - 6s - loss: 0.0260 - accuracy: 0.9894 - 6s/epoch - 14ms/step\n",
            "Epoch 29/30\n",
            "451/451 - 5s - loss: 0.0302 - accuracy: 0.9884 - 5s/epoch - 12ms/step\n",
            "Epoch 30/30\n",
            "451/451 - 7s - loss: 0.0210 - accuracy: 0.9910 - 7s/epoch - 15ms/step\n"
          ]
        }
      ]
    },
    {
      "cell_type": "code",
      "source": [
        "def predict_sentiment(review, vocab, tokenizer, max_length, model):\n",
        "  # clean review\n",
        "  line = clean_tweet(review, vocab)\n",
        "  # encode and pad review\n",
        "  padded = encode_docs(tokenizer, max_length, [line])\n",
        "  # predict sentiment\n",
        "  yhat = model.predict(padded, verbose=0)\n",
        "  # retrieve predicted percentage and label\n",
        "  percent_pos = yhat[0,2]\n",
        "  percent_neutral = yhat[0,1]\n",
        "  percent_neg = yhat[0,0]\n",
        "  max_percent = max(percent_pos, percent_neutral, percent_neg)\n",
        "  if max_percent == percent_pos:\n",
        "    return percent_pos, 'POSITIVE'\n",
        "  elif max_percent == percent_neutral:\n",
        "    return percent_neutral, 'NEUTRAL'\n",
        "  else:\n",
        "    return percent_neg, 'NEGATIVE'"
      ],
      "metadata": {
        "id": "BrEbfLK9qk4V"
      },
      "execution_count": null,
      "outputs": []
    },
    {
      "cell_type": "code",
      "source": [
        "from keras.models import load_model\n",
        "\n",
        "\n",
        "# load the vocabulary\n",
        "vocab_filename = 'vocab.txt'\n",
        "vocab = load_doc(vocab_filename)\n",
        "vocab = set(vocab.split())\n",
        "# load all revies\n",
        "data = df.to_dict(orient='records')\n",
        "data = [value for value in data if value['airline_sentiment_confidence'] >= 0.5]\n",
        "train_docs, ytrain = load_clean_tweet(data, vocab)\n",
        "# Convert ytrain to one-hot encoding\n",
        "ytrain = to_categorical(ytrain, num_classes=3)\n",
        "# create the tokenizer\n",
        "tokenizer = create_tokenizer(train_docs)\n",
        "# define vocabulary size\n",
        "vocab_size = len(tokenizer.word_index) + 1\n",
        "print('Vocabulary size: %d' % vocab_size)\n",
        "# calculate the maximum sequence length\n",
        "max_length = max([len(s.split()) for s in train_docs])\n",
        "print('Maximum length: %d' % max_length)\n",
        "# encode data\n",
        "Xtrain = encode_docs(tokenizer, max_length, train_docs)\n",
        "# load model\n",
        "model = load_model('model.h5')\n",
        "# evaluate model on training dataset\n",
        "_, acc = model.evaluate(Xtrain, ytrain, verbose=0)\n",
        "print('Train Accuracy: %.2f' % (acc*100))\n"
      ],
      "metadata": {
        "colab": {
          "base_uri": "https://localhost:8080/"
        },
        "id": "Hh1HywRwoH1J",
        "outputId": "5810d50c-a722-4cd7-f1e3-a32fae51f124"
      },
      "execution_count": null,
      "outputs": [
        {
          "output_type": "stream",
          "name": "stdout",
          "text": [
            "Vocabulary size: 5346\n",
            "Maximum length: 22\n",
            "Train Accuracy: 99.20\n"
          ]
        }
      ]
    },
    {
      "cell_type": "code",
      "source": [
        "# test negative\n",
        "text = \"@VirginAmerica didn't feel confortable for the service and the meals so smelly, not recommended\"\n",
        "percent, sentiment = predict_sentiment(text, vocab, tokenizer, max_length, model)\n",
        "print('Review: [%s]\\nSentiment: %s (%.3f%%)' % (text, sentiment, percent*100))\n",
        "\n",
        "# test neutral\n",
        "text = \"@VirginAmerica Are the hours of operation for the Club at SFO that are posted online current?\"\n",
        "percent, sentiment = predict_sentiment(text, vocab, tokenizer, max_length, model)\n",
        "print('Review: [%s]\\nSentiment: %s (%.3f%%)' % (text, sentiment, percent*100))\n",
        "\n",
        "# test positif\n",
        "text = \"@AmericanAir Thank you for the best service!\"\n",
        "percent, sentiment = predict_sentiment(text, vocab, tokenizer, max_length, model)\n",
        "print('Review: [%s]\\nSentiment: %s (%.3f%%)' % (text, sentiment, percent*100))"
      ],
      "metadata": {
        "colab": {
          "base_uri": "https://localhost:8080/"
        },
        "id": "Qdh_kevjqCq2",
        "outputId": "0bee5baa-741a-4e0b-d18a-1ff84f78a152"
      },
      "execution_count": null,
      "outputs": [
        {
          "output_type": "stream",
          "name": "stdout",
          "text": [
            "Review: [@VirginAmerica didn't feel confortable for the service and the meals so smelly, not recommended]\n",
            "Sentiment: NEGATIVE (92.315%)\n",
            "Review: [@VirginAmerica Are the hours of operation for the Club at SFO that are posted online current?]\n",
            "Sentiment: NEUTRAL (100.000%)\n",
            "Review: [@AmericanAir Thank you for the best service!]\n",
            "Sentiment: POSITIVE (91.683%)\n"
          ]
        }
      ]
    }
  ]
}